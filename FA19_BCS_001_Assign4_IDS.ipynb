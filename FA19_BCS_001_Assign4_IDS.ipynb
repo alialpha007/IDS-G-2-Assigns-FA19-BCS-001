{
  "nbformat": 4,
  "nbformat_minor": 0,
  "metadata": {
    "colab": {
      "provenance": [],
      "authorship_tag": "ABX9TyO9W/AJFlIKxFy8jGpDGfVL",
      "include_colab_link": true
    },
    "kernelspec": {
      "name": "python3",
      "display_name": "Python 3"
    },
    "language_info": {
      "name": "python"
    }
  },
  "cells": [
    {
      "cell_type": "markdown",
      "metadata": {
        "id": "view-in-github",
        "colab_type": "text"
      },
      "source": [
        "<a href=\"https://colab.research.google.com/github/technerd21/IDS-G-2-Assigns-FA19-BCS-001/blob/main/FA19_BCS_001_Assign4_IDS.ipynb\" target=\"_parent\"><img src=\"https://colab.research.google.com/assets/colab-badge.svg\" alt=\"Open In Colab\"/></a>"
      ]
    },
    {
      "cell_type": "code",
      "execution_count": 1,
      "metadata": {
        "colab": {
          "base_uri": "https://localhost:8080/"
        },
        "id": "vzbzDA-engE1",
        "outputId": "c6ef034b-bbb4-4ea4-bf15-b5588418d8f9"
      },
      "outputs": [
        {
          "output_type": "stream",
          "name": "stdout",
          "text": [
            "Looking in indexes: https://pypi.org/simple, https://us-python.pkg.dev/colab-wheels/public/simple/\n",
            "Collecting scikit-plot\n",
            "  Downloading scikit_plot-0.3.7-py3-none-any.whl (33 kB)\n",
            "Requirement already satisfied: scipy>=0.9 in /usr/local/lib/python3.8/dist-packages (from scikit-plot) (1.7.3)\n",
            "Requirement already satisfied: matplotlib>=1.4.0 in /usr/local/lib/python3.8/dist-packages (from scikit-plot) (3.2.2)\n",
            "Requirement already satisfied: joblib>=0.10 in /usr/local/lib/python3.8/dist-packages (from scikit-plot) (1.2.0)\n",
            "Requirement already satisfied: scikit-learn>=0.18 in /usr/local/lib/python3.8/dist-packages (from scikit-plot) (1.0.2)\n",
            "Requirement already satisfied: kiwisolver>=1.0.1 in /usr/local/lib/python3.8/dist-packages (from matplotlib>=1.4.0->scikit-plot) (1.4.4)\n",
            "Requirement already satisfied: cycler>=0.10 in /usr/local/lib/python3.8/dist-packages (from matplotlib>=1.4.0->scikit-plot) (0.11.0)\n",
            "Requirement already satisfied: python-dateutil>=2.1 in /usr/local/lib/python3.8/dist-packages (from matplotlib>=1.4.0->scikit-plot) (2.8.2)\n",
            "Requirement already satisfied: pyparsing!=2.0.4,!=2.1.2,!=2.1.6,>=2.0.1 in /usr/local/lib/python3.8/dist-packages (from matplotlib>=1.4.0->scikit-plot) (3.0.9)\n",
            "Requirement already satisfied: numpy>=1.11 in /usr/local/lib/python3.8/dist-packages (from matplotlib>=1.4.0->scikit-plot) (1.21.6)\n",
            "Requirement already satisfied: six>=1.5 in /usr/local/lib/python3.8/dist-packages (from python-dateutil>=2.1->matplotlib>=1.4.0->scikit-plot) (1.15.0)\n",
            "Requirement already satisfied: threadpoolctl>=2.0.0 in /usr/local/lib/python3.8/dist-packages (from scikit-learn>=0.18->scikit-plot) (3.1.0)\n",
            "Installing collected packages: scikit-plot\n",
            "Successfully installed scikit-plot-0.3.7\n"
          ]
        }
      ],
      "source": [
        "!pip install scikit-plot"
      ]
    },
    {
      "cell_type": "code",
      "source": [
        "#import libraries\n",
        "from sklearn import preprocessing\n",
        "import pandas as pd\n",
        "\n",
        "#import different ML classifiers\n",
        "from sklearn.naive_bayes import GaussianNB, BernoulliNB, MultinomialNB\n",
        "from sklearn.svm import SVC, LinearSVC\n",
        "from sklearn.linear_model import LogisticRegression\n",
        "from sklearn.tree import DecisionTreeClassifier\n",
        "from sklearn.ensemble import RandomForestClassifier\n",
        "from sklearn.neural_network import MLPClassifier\n",
        "\n",
        "#import ML evaluation metrics\n",
        "from sklearn.metrics import accuracy_score, f1_score,recall_score,precision_score\n",
        "from sklearn.model_selection import train_test_split\n",
        "from sklearn import metrics, model_selection\n",
        "from sklearn.model_selection import ShuffleSplit, cross_val_predict, cross_val_score, LeavePOut"
      ],
      "metadata": {
        "id": "Oposph3HoXGK"
      },
      "execution_count": 2,
      "outputs": []
    },
    {
      "cell_type": "code",
      "source": [
        "#import library for accesssing Google Drive from Google Colab\n",
        "from google.colab import drive\n",
        "drive.mount('/content/drive')"
      ],
      "metadata": {
        "colab": {
          "base_uri": "https://localhost:8080/"
        },
        "id": "5-Hin6atobqU",
        "outputId": "9318f2c6-5762-4cc1-f265-3d8d21bdc067"
      },
      "execution_count": 3,
      "outputs": [
        {
          "output_type": "stream",
          "name": "stdout",
          "text": [
            "Mounted at /content/drive\n"
          ]
        }
      ]
    },
    {
      "cell_type": "code",
      "source": [
        "#read CSV (dataset) file\n",
        "df_gender = pd.read_csv('/content/drive/My Drive/gender-prediction.csv')\n",
        "df_gender"
      ],
      "metadata": {
        "colab": {
          "base_uri": "https://localhost:8080/",
          "height": 424
        },
        "id": "TJIr9FbYorEh",
        "outputId": "9a2518e7-07e9-4c38-cc4e-e4a6871d7da9"
      },
      "execution_count": 4,
      "outputs": [
        {
          "output_type": "execute_result",
          "data": {
            "text/plain": [
              "    height  weight beard hair_length  shoe_size scarf eye_color  gender\n",
              "0       71     176   yes       short         44    no     black    male\n",
              "1       68     165    no        bald         41    no     black    male\n",
              "2       62     132    no      medium         37   yes      blue  female\n",
              "3       65     138    no        long         38    no      gray  female\n",
              "4       70     197   yes      medium         43    no      gray    male\n",
              "..     ...     ...   ...         ...        ...   ...       ...     ...\n",
              "75      65      99    no       short         39   yes     green  female\n",
              "76      61      98    no       short         37    no     brown  female\n",
              "77      67     119   yes       short         40    no     black    male\n",
              "78      70     190   yes      medium         43    no      gray    male\n",
              "79      62     142   yes        long         37    no      blue  female\n",
              "\n",
              "[80 rows x 8 columns]"
            ],
            "text/html": [
              "\n",
              "  <div id=\"df-733493f3-f284-4622-be62-b57151e625c2\">\n",
              "    <div class=\"colab-df-container\">\n",
              "      <div>\n",
              "<style scoped>\n",
              "    .dataframe tbody tr th:only-of-type {\n",
              "        vertical-align: middle;\n",
              "    }\n",
              "\n",
              "    .dataframe tbody tr th {\n",
              "        vertical-align: top;\n",
              "    }\n",
              "\n",
              "    .dataframe thead th {\n",
              "        text-align: right;\n",
              "    }\n",
              "</style>\n",
              "<table border=\"1\" class=\"dataframe\">\n",
              "  <thead>\n",
              "    <tr style=\"text-align: right;\">\n",
              "      <th></th>\n",
              "      <th>height</th>\n",
              "      <th>weight</th>\n",
              "      <th>beard</th>\n",
              "      <th>hair_length</th>\n",
              "      <th>shoe_size</th>\n",
              "      <th>scarf</th>\n",
              "      <th>eye_color</th>\n",
              "      <th>gender</th>\n",
              "    </tr>\n",
              "  </thead>\n",
              "  <tbody>\n",
              "    <tr>\n",
              "      <th>0</th>\n",
              "      <td>71</td>\n",
              "      <td>176</td>\n",
              "      <td>yes</td>\n",
              "      <td>short</td>\n",
              "      <td>44</td>\n",
              "      <td>no</td>\n",
              "      <td>black</td>\n",
              "      <td>male</td>\n",
              "    </tr>\n",
              "    <tr>\n",
              "      <th>1</th>\n",
              "      <td>68</td>\n",
              "      <td>165</td>\n",
              "      <td>no</td>\n",
              "      <td>bald</td>\n",
              "      <td>41</td>\n",
              "      <td>no</td>\n",
              "      <td>black</td>\n",
              "      <td>male</td>\n",
              "    </tr>\n",
              "    <tr>\n",
              "      <th>2</th>\n",
              "      <td>62</td>\n",
              "      <td>132</td>\n",
              "      <td>no</td>\n",
              "      <td>medium</td>\n",
              "      <td>37</td>\n",
              "      <td>yes</td>\n",
              "      <td>blue</td>\n",
              "      <td>female</td>\n",
              "    </tr>\n",
              "    <tr>\n",
              "      <th>3</th>\n",
              "      <td>65</td>\n",
              "      <td>138</td>\n",
              "      <td>no</td>\n",
              "      <td>long</td>\n",
              "      <td>38</td>\n",
              "      <td>no</td>\n",
              "      <td>gray</td>\n",
              "      <td>female</td>\n",
              "    </tr>\n",
              "    <tr>\n",
              "      <th>4</th>\n",
              "      <td>70</td>\n",
              "      <td>197</td>\n",
              "      <td>yes</td>\n",
              "      <td>medium</td>\n",
              "      <td>43</td>\n",
              "      <td>no</td>\n",
              "      <td>gray</td>\n",
              "      <td>male</td>\n",
              "    </tr>\n",
              "    <tr>\n",
              "      <th>...</th>\n",
              "      <td>...</td>\n",
              "      <td>...</td>\n",
              "      <td>...</td>\n",
              "      <td>...</td>\n",
              "      <td>...</td>\n",
              "      <td>...</td>\n",
              "      <td>...</td>\n",
              "      <td>...</td>\n",
              "    </tr>\n",
              "    <tr>\n",
              "      <th>75</th>\n",
              "      <td>65</td>\n",
              "      <td>99</td>\n",
              "      <td>no</td>\n",
              "      <td>short</td>\n",
              "      <td>39</td>\n",
              "      <td>yes</td>\n",
              "      <td>green</td>\n",
              "      <td>female</td>\n",
              "    </tr>\n",
              "    <tr>\n",
              "      <th>76</th>\n",
              "      <td>61</td>\n",
              "      <td>98</td>\n",
              "      <td>no</td>\n",
              "      <td>short</td>\n",
              "      <td>37</td>\n",
              "      <td>no</td>\n",
              "      <td>brown</td>\n",
              "      <td>female</td>\n",
              "    </tr>\n",
              "    <tr>\n",
              "      <th>77</th>\n",
              "      <td>67</td>\n",
              "      <td>119</td>\n",
              "      <td>yes</td>\n",
              "      <td>short</td>\n",
              "      <td>40</td>\n",
              "      <td>no</td>\n",
              "      <td>black</td>\n",
              "      <td>male</td>\n",
              "    </tr>\n",
              "    <tr>\n",
              "      <th>78</th>\n",
              "      <td>70</td>\n",
              "      <td>190</td>\n",
              "      <td>yes</td>\n",
              "      <td>medium</td>\n",
              "      <td>43</td>\n",
              "      <td>no</td>\n",
              "      <td>gray</td>\n",
              "      <td>male</td>\n",
              "    </tr>\n",
              "    <tr>\n",
              "      <th>79</th>\n",
              "      <td>62</td>\n",
              "      <td>142</td>\n",
              "      <td>yes</td>\n",
              "      <td>long</td>\n",
              "      <td>37</td>\n",
              "      <td>no</td>\n",
              "      <td>blue</td>\n",
              "      <td>female</td>\n",
              "    </tr>\n",
              "  </tbody>\n",
              "</table>\n",
              "<p>80 rows × 8 columns</p>\n",
              "</div>\n",
              "      <button class=\"colab-df-convert\" onclick=\"convertToInteractive('df-733493f3-f284-4622-be62-b57151e625c2')\"\n",
              "              title=\"Convert this dataframe to an interactive table.\"\n",
              "              style=\"display:none;\">\n",
              "        \n",
              "  <svg xmlns=\"http://www.w3.org/2000/svg\" height=\"24px\"viewBox=\"0 0 24 24\"\n",
              "       width=\"24px\">\n",
              "    <path d=\"M0 0h24v24H0V0z\" fill=\"none\"/>\n",
              "    <path d=\"M18.56 5.44l.94 2.06.94-2.06 2.06-.94-2.06-.94-.94-2.06-.94 2.06-2.06.94zm-11 1L8.5 8.5l.94-2.06 2.06-.94-2.06-.94L8.5 2.5l-.94 2.06-2.06.94zm10 10l.94 2.06.94-2.06 2.06-.94-2.06-.94-.94-2.06-.94 2.06-2.06.94z\"/><path d=\"M17.41 7.96l-1.37-1.37c-.4-.4-.92-.59-1.43-.59-.52 0-1.04.2-1.43.59L10.3 9.45l-7.72 7.72c-.78.78-.78 2.05 0 2.83L4 21.41c.39.39.9.59 1.41.59.51 0 1.02-.2 1.41-.59l7.78-7.78 2.81-2.81c.8-.78.8-2.07 0-2.86zM5.41 20L4 18.59l7.72-7.72 1.47 1.35L5.41 20z\"/>\n",
              "  </svg>\n",
              "      </button>\n",
              "      \n",
              "  <style>\n",
              "    .colab-df-container {\n",
              "      display:flex;\n",
              "      flex-wrap:wrap;\n",
              "      gap: 12px;\n",
              "    }\n",
              "\n",
              "    .colab-df-convert {\n",
              "      background-color: #E8F0FE;\n",
              "      border: none;\n",
              "      border-radius: 50%;\n",
              "      cursor: pointer;\n",
              "      display: none;\n",
              "      fill: #1967D2;\n",
              "      height: 32px;\n",
              "      padding: 0 0 0 0;\n",
              "      width: 32px;\n",
              "    }\n",
              "\n",
              "    .colab-df-convert:hover {\n",
              "      background-color: #E2EBFA;\n",
              "      box-shadow: 0px 1px 2px rgba(60, 64, 67, 0.3), 0px 1px 3px 1px rgba(60, 64, 67, 0.15);\n",
              "      fill: #174EA6;\n",
              "    }\n",
              "\n",
              "    [theme=dark] .colab-df-convert {\n",
              "      background-color: #3B4455;\n",
              "      fill: #D2E3FC;\n",
              "    }\n",
              "\n",
              "    [theme=dark] .colab-df-convert:hover {\n",
              "      background-color: #434B5C;\n",
              "      box-shadow: 0px 1px 3px 1px rgba(0, 0, 0, 0.15);\n",
              "      filter: drop-shadow(0px 1px 2px rgba(0, 0, 0, 0.3));\n",
              "      fill: #FFFFFF;\n",
              "    }\n",
              "  </style>\n",
              "\n",
              "      <script>\n",
              "        const buttonEl =\n",
              "          document.querySelector('#df-733493f3-f284-4622-be62-b57151e625c2 button.colab-df-convert');\n",
              "        buttonEl.style.display =\n",
              "          google.colab.kernel.accessAllowed ? 'block' : 'none';\n",
              "\n",
              "        async function convertToInteractive(key) {\n",
              "          const element = document.querySelector('#df-733493f3-f284-4622-be62-b57151e625c2');\n",
              "          const dataTable =\n",
              "            await google.colab.kernel.invokeFunction('convertToInteractive',\n",
              "                                                     [key], {});\n",
              "          if (!dataTable) return;\n",
              "\n",
              "          const docLinkHtml = 'Like what you see? Visit the ' +\n",
              "            '<a target=\"_blank\" href=https://colab.research.google.com/notebooks/data_table.ipynb>data table notebook</a>'\n",
              "            + ' to learn more about interactive tables.';\n",
              "          element.innerHTML = '';\n",
              "          dataTable['output_type'] = 'display_data';\n",
              "          await google.colab.output.renderOutput(dataTable, element);\n",
              "          const docLink = document.createElement('div');\n",
              "          docLink.innerHTML = docLinkHtml;\n",
              "          element.appendChild(docLink);\n",
              "        }\n",
              "      </script>\n",
              "    </div>\n",
              "  </div>\n",
              "  "
            ]
          },
          "metadata": {},
          "execution_count": 4
        }
      ]
    },
    {
      "cell_type": "code",
      "source": [
        "first_height=df_gender['height']\n",
        "#first_height\n",
        "first_weight=df_gender['weight']\n",
        "#first_weight\n",
        "first_beard=df_gender['beard']\n",
        "#first_beard\n",
        "first_hair_length=df_gender['hair_length']\n",
        "#first_hair_length\n",
        "first_shoe_size=df_gender['shoe_size']\n",
        "#first_shoe_size\n",
        "first_scarf=df_gender['scarf']\n",
        "#first_scarf\n",
        "first_eye_color=df_gender['eye_color']\n",
        "#first_eye_color\n",
        "gend_out=df_gender['gender']\n",
        "gend_out"
      ],
      "metadata": {
        "id": "sLqv4SmL0Uow",
        "colab": {
          "base_uri": "https://localhost:8080/"
        },
        "outputId": "82bc7756-003d-4457-c343-305b024b6881"
      },
      "execution_count": 5,
      "outputs": [
        {
          "output_type": "execute_result",
          "data": {
            "text/plain": [
              "0       male\n",
              "1       male\n",
              "2     female\n",
              "3     female\n",
              "4       male\n",
              "       ...  \n",
              "75    female\n",
              "76    female\n",
              "77      male\n",
              "78      male\n",
              "79    female\n",
              "Name: gender, Length: 80, dtype: object"
            ]
          },
          "metadata": {},
          "execution_count": 5
        }
      ]
    },
    {
      "cell_type": "code",
      "source": [
        "#converting strings into numbers\n",
        "labels = preprocessing.LabelEncoder()\n",
        "beard_encod = labels.fit_transform(first_beard)\n",
        "print(beard_encod)\n",
        "\n",
        "hairlength_encod = labels.fit_transform(first_hair_length)\n",
        "print(hairlength_encod)\n",
        "\n",
        "scarf_encod = labels.fit_transform(first_scarf)\n",
        "print(scarf_encod)\n",
        "\n",
        "eyecolor_encod = labels.fit_transform(first_eye_color)\n",
        "print(eyecolor_encod)\n",
        "\n",
        "gender_encod = labels.fit_transform(gend_out)\n",
        "print(gender_encod)"
      ],
      "metadata": {
        "id": "L2r1wmNEHFMb",
        "colab": {
          "base_uri": "https://localhost:8080/"
        },
        "outputId": "1c0c5df9-3ee3-4755-f20a-aa43e626c662"
      },
      "execution_count": 6,
      "outputs": [
        {
          "output_type": "stream",
          "name": "stdout",
          "text": [
            "[1 0 0 0 1 1 1 0 0 0 0 1 0 0 1 1 0 0 0 0 0 1 1 1 0 1 1 0 0 0 0 1 0 0 0 1 0\n",
            " 1 0 0 0 1 1 1 1 0 0 1 1 1 1 1 0 1 0 0 1 0 1 1 0 1 1 0 0 1 0 1 0 1 0 0 1 0\n",
            " 0 0 0 1 1 1]\n",
            "[3 0 2 1 2 3 0 3 3 2 1 3 2 1 2 3 3 1 1 2 2 2 3 2 2 2 2 2 1 3 2 2 1 2 2 2 2\n",
            " 2 1 2 3 2 2 3 0 2 1 2 2 2 2 2 2 2 1 2 2 1 2 2 2 2 3 1 1 0 1 3 2 3 1 2 2 1\n",
            " 1 3 3 3 2 1]\n",
            "[0 0 1 0 0 0 0 0 0 1 0 0 0 0 0 0 0 1 1 0 0 0 0 0 1 0 0 0 0 1 1 0 0 0 1 0 1\n",
            " 0 1 1 0 0 0 0 0 0 0 0 0 0 0 0 0 0 0 0 0 1 0 0 0 0 0 1 1 0 1 0 1 0 0 0 0 1\n",
            " 1 1 0 0 0 0]\n",
            "[0 0 1 3 3 0 2 2 4 3 3 3 0 3 0 1 0 4 3 4 0 0 0 3 2 2 0 4 1 3 2 3 3 0 2 2 4\n",
            " 0 3 4 3 0 0 2 0 2 0 2 0 0 0 2 2 2 2 0 2 3 2 2 2 2 2 4 3 0 4 0 0 0 2 0 2 3\n",
            " 4 4 2 0 3 1]\n",
            "[1 1 0 0 1 1 1 1 0 0 0 1 1 0 1 1 1 0 0 0 0 1 1 1 0 1 1 0 0 0 0 1 0 0 0 1 0\n",
            " 1 0 0 0 1 1 1 1 1 1 1 1 1 1 1 1 1 0 1 1 0 1 1 1 1 1 0 0 1 0 1 0 1 0 1 1 0\n",
            " 0 0 0 1 1 0]\n"
          ]
        }
      ]
    },
    {
      "cell_type": "code",
      "source": [
        "#combining data (inputs ) into single list of tuples\n",
        "features = list(zip(first_height,first_weight,beard_encod,hairlength_encod,first_shoe_size,scarf_encod,eyecolor_encod))\n",
        "output_gender =gender_encod \n",
        "\n",
        "print(features)\n",
        "print(output_gender)"
      ],
      "metadata": {
        "id": "nHDpUhDtIhyA",
        "colab": {
          "base_uri": "https://localhost:8080/"
        },
        "outputId": "f31ad7c2-f891-4cc8-9e27-ae30b6932ee6"
      },
      "execution_count": 7,
      "outputs": [
        {
          "output_type": "stream",
          "name": "stdout",
          "text": [
            "[(71, 176, 1, 3, 44, 0, 0), (68, 165, 0, 0, 41, 0, 0), (62, 132, 0, 2, 37, 1, 1), (65, 138, 0, 1, 38, 0, 3), (70, 197, 1, 2, 43, 0, 3), (71, 190, 1, 3, 43, 0, 0), (74, 201, 1, 0, 44, 0, 2), (74, 182, 0, 3, 46, 0, 2), (63, 127, 0, 3, 35, 0, 4), (65, 139, 0, 2, 37, 1, 3), (66, 125, 0, 1, 36, 0, 3), (73, 188, 1, 3, 42, 0, 3), (74, 167, 0, 2, 41, 0, 0), (68, 141, 0, 1, 38, 0, 3), (70, 199, 1, 2, 40, 0, 0), (73, 189, 1, 3, 43, 0, 1), (69, 159, 0, 3, 43, 0, 0), (68, 135, 0, 1, 37, 1, 4), (68, 145, 0, 1, 38, 1, 3), (66, 138, 0, 2, 37, 0, 4), (66, 132, 0, 2, 40, 0, 0), (71, 170, 1, 2, 42, 0, 0), (67, 119, 1, 3, 40, 0, 0), (70, 190, 1, 2, 43, 0, 3), (68, 154, 0, 2, 38, 1, 2), (71, 155, 1, 2, 45, 0, 2), (69, 121, 1, 2, 41, 0, 0), (68, 97, 0, 2, 39, 0, 4), (68, 158, 0, 1, 38, 0, 1), (58, 92, 0, 3, 40, 1, 3), (63, 109, 0, 2, 37, 1, 2), (71, 158, 1, 2, 44, 0, 3), (61, 88, 0, 1, 37, 0, 3), (67, 132, 0, 2, 38, 0, 0), (62, 116, 0, 2, 39, 1, 2), (71, 125, 1, 2, 42, 0, 2), (63, 125, 0, 2, 39, 1, 4), (68, 121, 1, 2, 40, 0, 0), (67, 145, 0, 1, 39, 1, 3), (65, 99, 0, 2, 38, 1, 4), (61, 98, 0, 3, 37, 0, 3), (70, 167, 1, 2, 42, 0, 0), (64, 122, 1, 2, 42, 0, 0), (61, 156, 1, 3, 41, 0, 2), (69, 178, 1, 0, 44, 0, 0), (72, 150, 0, 2, 43, 0, 2), (70, 160, 0, 1, 42, 0, 0), (67, 167, 1, 2, 42, 0, 2), (72, 153, 1, 2, 42, 0, 0), (67, 130, 1, 2, 40, 0, 0), (72, 154, 1, 2, 42, 0, 0), (67, 119, 1, 2, 40, 0, 2), (65, 160, 0, 2, 41, 0, 2), (70, 121, 1, 2, 45, 0, 2), (63, 103, 0, 1, 38, 0, 2), (74, 218, 0, 2, 43, 0, 0), (72, 145, 1, 2, 42, 0, 2), (67, 99, 0, 1, 39, 1, 3), (69, 209, 1, 2, 43, 0, 2), (67, 143, 1, 2, 38, 0, 2), (70, 209, 0, 2, 44, 0, 2), (71, 145, 1, 2, 44, 0, 2), (72, 185, 1, 3, 44, 0, 2), (65, 96, 0, 1, 37, 1, 4), (60, 125, 0, 1, 38, 1, 3), (70, 166, 1, 0, 40, 0, 0), (63, 102, 0, 1, 38, 1, 4), (67, 133, 1, 3, 40, 0, 0), (62, 105, 0, 2, 37, 1, 0), (71, 168, 1, 3, 42, 0, 0), (62, 100, 0, 1, 38, 0, 2), (74, 202, 0, 2, 43, 0, 0), (72, 165, 1, 2, 44, 0, 2), (65, 98, 0, 1, 38, 1, 3), (67, 145, 0, 1, 39, 1, 4), (65, 99, 0, 3, 39, 1, 4), (61, 98, 0, 3, 37, 0, 2), (67, 119, 1, 3, 40, 0, 0), (70, 190, 1, 2, 43, 0, 3), (62, 142, 1, 1, 37, 0, 1)]\n",
            "[1 1 0 0 1 1 1 1 0 0 0 1 1 0 1 1 1 0 0 0 0 1 1 1 0 1 1 0 0 0 0 1 0 0 0 1 0\n",
            " 1 0 0 0 1 1 1 1 1 1 1 1 1 1 1 1 1 0 1 1 0 1 1 1 1 1 0 0 1 0 1 0 1 0 1 1 0\n",
            " 0 0 0 1 1 0]\n"
          ]
        }
      ]
    },
    {
      "cell_type": "code",
      "source": [
        "#make train/test split\n",
        "X_train, x_test, Y_train, y_test = train_test_split(features, output_gender, test_size = 0.33, random_state = 2)"
      ],
      "metadata": {
        "id": "mISTEtNkJx2b"
      },
      "execution_count": 8,
      "outputs": []
    },
    {
      "cell_type": "code",
      "source": [
        "#Random Forest Classifier\n",
        "model = RandomForestClassifier()"
      ],
      "metadata": {
        "id": "XBPc-9k-KTFO"
      },
      "execution_count": 9,
      "outputs": []
    },
    {
      "cell_type": "code",
      "source": [
        "#train the model using the data (training data)\n",
        "model.fit(X_train,Y_train)"
      ],
      "metadata": {
        "id": "bcbPGKioKq7e",
        "colab": {
          "base_uri": "https://localhost:8080/"
        },
        "outputId": "27045ab8-c203-4193-f551-2e7be46c36a8"
      },
      "execution_count": 10,
      "outputs": [
        {
          "output_type": "execute_result",
          "data": {
            "text/plain": [
              "RandomForestClassifier()"
            ]
          },
          "metadata": {},
          "execution_count": 10
        }
      ]
    },
    {
      "cell_type": "code",
      "source": [
        "#make prediction using the trained model\n",
        "prediction = model.predict(x_test)"
      ],
      "metadata": {
        "id": "gh-F3PUdK0aN"
      },
      "execution_count": 11,
      "outputs": []
    },
    {
      "cell_type": "code",
      "source": [
        "#calcualte and print accuracy\n",
        "model_acc = accuracy_score(y_test, prediction)*100\n",
        "print(model_acc)"
      ],
      "metadata": {
        "id": "O2Ozt8ZxK7Iv",
        "colab": {
          "base_uri": "https://localhost:8080/"
        },
        "outputId": "2ab9afc8-17d0-416e-fb68-674de2727640"
      },
      "execution_count": 12,
      "outputs": [
        {
          "output_type": "stream",
          "name": "stdout",
          "text": [
            "100.0\n"
          ]
        }
      ]
    },
    {
      "cell_type": "code",
      "source": [
        "#generate classification report\n",
        "model_cl_rep = metrics.classification_report(y_test, prediction)\n",
        "print(model_cl_rep)"
      ],
      "metadata": {
        "id": "6uoqb5BcLBIH",
        "colab": {
          "base_uri": "https://localhost:8080/"
        },
        "outputId": "33090170-939d-4515-c141-3daab88cba54"
      },
      "execution_count": 13,
      "outputs": [
        {
          "output_type": "stream",
          "name": "stdout",
          "text": [
            "              precision    recall  f1-score   support\n",
            "\n",
            "           0       1.00      1.00      1.00        10\n",
            "           1       1.00      1.00      1.00        17\n",
            "\n",
            "    accuracy                           1.00        27\n",
            "   macro avg       1.00      1.00      1.00        27\n",
            "weighted avg       1.00      1.00      1.00        27\n",
            "\n"
          ]
        }
      ]
    },
    {
      "cell_type": "code",
      "source": [
        "#generate confusion matrix\n",
        "model_cm = metrics.confusion_matrix(y_test, prediction)\n",
        "print(model_cm)"
      ],
      "metadata": {
        "id": "2srGwA-DMk9Y",
        "colab": {
          "base_uri": "https://localhost:8080/"
        },
        "outputId": "1611c85a-b294-4aad-bbf2-a01fc3933eca"
      },
      "execution_count": 14,
      "outputs": [
        {
          "output_type": "stream",
          "name": "stdout",
          "text": [
            "[[10  0]\n",
            " [ 0 17]]\n"
          ]
        }
      ]
    },
    {
      "cell_type": "code",
      "source": [
        "#Support Vector Machines\n",
        "model_SVC=SVC()"
      ],
      "metadata": {
        "id": "piWT0U8dO-UK"
      },
      "execution_count": 15,
      "outputs": []
    },
    {
      "cell_type": "code",
      "source": [
        "#train the model using the data (training data)\n",
        "model_SVC.fit(X_train,Y_train)"
      ],
      "metadata": {
        "id": "HnRD2dSzRFM_",
        "colab": {
          "base_uri": "https://localhost:8080/"
        },
        "outputId": "8f62a3e4-15d8-4c1d-8972-03e7c37295bf"
      },
      "execution_count": 16,
      "outputs": [
        {
          "output_type": "execute_result",
          "data": {
            "text/plain": [
              "SVC()"
            ]
          },
          "metadata": {},
          "execution_count": 16
        }
      ]
    },
    {
      "cell_type": "code",
      "source": [
        "#make prediction using the trained model\n",
        "prediction_SVC = model_SVC.predict(x_test)"
      ],
      "metadata": {
        "id": "ZGPpEeNERQvt"
      },
      "execution_count": 17,
      "outputs": []
    },
    {
      "cell_type": "code",
      "source": [
        "#calcualte and print accuracy\n",
        "model_acc_SVC = accuracy_score(y_test, prediction_SVC)*100\n",
        "print(model_acc_SVC)"
      ],
      "metadata": {
        "id": "hkQK7pPaRYC3",
        "colab": {
          "base_uri": "https://localhost:8080/"
        },
        "outputId": "897ffb0a-79be-4cca-e44d-05188126fd94"
      },
      "execution_count": 18,
      "outputs": [
        {
          "output_type": "stream",
          "name": "stdout",
          "text": [
            "77.77777777777779\n"
          ]
        }
      ]
    },
    {
      "cell_type": "code",
      "source": [
        "#generate classification report\n",
        "model_cl_rep_SVC = metrics.classification_report(y_test, prediction_SVC)\n",
        "print(model_cl_rep_SVC)"
      ],
      "metadata": {
        "id": "EZnWoKRYRsje",
        "colab": {
          "base_uri": "https://localhost:8080/"
        },
        "outputId": "12bd434c-90a9-495b-ba80-703fedc6c0ba"
      },
      "execution_count": 19,
      "outputs": [
        {
          "output_type": "stream",
          "name": "stdout",
          "text": [
            "              precision    recall  f1-score   support\n",
            "\n",
            "           0       0.70      0.70      0.70        10\n",
            "           1       0.82      0.82      0.82        17\n",
            "\n",
            "    accuracy                           0.78        27\n",
            "   macro avg       0.76      0.76      0.76        27\n",
            "weighted avg       0.78      0.78      0.78        27\n",
            "\n"
          ]
        }
      ]
    },
    {
      "cell_type": "code",
      "source": [
        "#generate confusion matrix\n",
        "model_cm_SVC = metrics.confusion_matrix(y_test, prediction_SVC)\n",
        "print(model_cm_SVC)"
      ],
      "metadata": {
        "id": "uPLeNGBeR7wx",
        "colab": {
          "base_uri": "https://localhost:8080/"
        },
        "outputId": "db761acc-0abe-477c-cdfd-099d833468ea"
      },
      "execution_count": 20,
      "outputs": [
        {
          "output_type": "stream",
          "name": "stdout",
          "text": [
            "[[ 7  3]\n",
            " [ 3 14]]\n"
          ]
        }
      ]
    },
    {
      "cell_type": "code",
      "source": [
        "#Linear Support Vector Machines\n",
        "model_LSVC=LinearSVC()"
      ],
      "metadata": {
        "id": "4X_FwGqFSje9"
      },
      "execution_count": 21,
      "outputs": []
    },
    {
      "cell_type": "code",
      "source": [
        "#train the model using the data (training data)\n",
        "model_LSVC.fit(X_train,Y_train)"
      ],
      "metadata": {
        "id": "eRDK6k5CUQf9",
        "colab": {
          "base_uri": "https://localhost:8080/"
        },
        "outputId": "8bf9ffac-fdf3-48f6-f8e2-357bb97daf45"
      },
      "execution_count": 22,
      "outputs": [
        {
          "output_type": "stream",
          "name": "stderr",
          "text": [
            "/usr/local/lib/python3.8/dist-packages/sklearn/svm/_base.py:1206: ConvergenceWarning: Liblinear failed to converge, increase the number of iterations.\n",
            "  warnings.warn(\n"
          ]
        },
        {
          "output_type": "execute_result",
          "data": {
            "text/plain": [
              "LinearSVC()"
            ]
          },
          "metadata": {},
          "execution_count": 22
        }
      ]
    },
    {
      "cell_type": "code",
      "source": [
        "#make prediction using the trained model\n",
        "prediction_LSVC = model_LSVC.predict(x_test)"
      ],
      "metadata": {
        "id": "hruDJBmAUQcf"
      },
      "execution_count": 23,
      "outputs": []
    },
    {
      "cell_type": "code",
      "source": [
        "#calcualte and print accuracy\n",
        "model_acc_LSVC = accuracy_score(y_test, prediction_LSVC)*100\n",
        "print(model_acc_LSVC)"
      ],
      "metadata": {
        "id": "sfZwutsIUQaA",
        "colab": {
          "base_uri": "https://localhost:8080/"
        },
        "outputId": "bb2241ca-5ea8-46c6-879e-9bc4ba0f1102"
      },
      "execution_count": 24,
      "outputs": [
        {
          "output_type": "stream",
          "name": "stdout",
          "text": [
            "88.88888888888889\n"
          ]
        }
      ]
    },
    {
      "cell_type": "code",
      "source": [
        "#generate classification report\n",
        "model_cl_rep_LSVC = metrics.classification_report(y_test, prediction_LSVC)\n",
        "print(model_cl_rep_LSVC)"
      ],
      "metadata": {
        "id": "OLg-FMy8UQXd",
        "colab": {
          "base_uri": "https://localhost:8080/"
        },
        "outputId": "6b9e2669-0a1a-40cf-a93f-8b93c576d742"
      },
      "execution_count": 25,
      "outputs": [
        {
          "output_type": "stream",
          "name": "stdout",
          "text": [
            "              precision    recall  f1-score   support\n",
            "\n",
            "           0       0.82      0.90      0.86        10\n",
            "           1       0.94      0.88      0.91        17\n",
            "\n",
            "    accuracy                           0.89        27\n",
            "   macro avg       0.88      0.89      0.88        27\n",
            "weighted avg       0.89      0.89      0.89        27\n",
            "\n"
          ]
        }
      ]
    },
    {
      "cell_type": "code",
      "source": [
        "#generate confusion matrix\n",
        "model_cm_LSVC = metrics.confusion_matrix(y_test, prediction_LSVC)\n",
        "print(model_cm_LSVC)"
      ],
      "metadata": {
        "id": "DN9i66VVUQQ8",
        "colab": {
          "base_uri": "https://localhost:8080/"
        },
        "outputId": "f7c6bdb5-5d54-4425-85a4-0a4d4d3c6507"
      },
      "execution_count": 26,
      "outputs": [
        {
          "output_type": "stream",
          "name": "stdout",
          "text": [
            "[[ 9  1]\n",
            " [ 2 15]]\n"
          ]
        }
      ]
    },
    {
      "cell_type": "code",
      "source": [
        "#Multilayer Perceptron classification\n",
        "model_MLP=MLPClassifier()"
      ],
      "metadata": {
        "id": "NOBTKI1aUQDK"
      },
      "execution_count": 27,
      "outputs": []
    },
    {
      "cell_type": "code",
      "source": [
        "#train the model using the data (training data)\n",
        "model_MLP.fit(X_train,Y_train)"
      ],
      "metadata": {
        "id": "33zOZQ19W6xX",
        "colab": {
          "base_uri": "https://localhost:8080/"
        },
        "outputId": "61754fb5-e8e3-4140-cfa9-482d3a46af1d"
      },
      "execution_count": 28,
      "outputs": [
        {
          "output_type": "stream",
          "name": "stderr",
          "text": [
            "/usr/local/lib/python3.8/dist-packages/sklearn/neural_network/_multilayer_perceptron.py:692: ConvergenceWarning: Stochastic Optimizer: Maximum iterations (200) reached and the optimization hasn't converged yet.\n",
            "  warnings.warn(\n"
          ]
        },
        {
          "output_type": "execute_result",
          "data": {
            "text/plain": [
              "MLPClassifier()"
            ]
          },
          "metadata": {},
          "execution_count": 28
        }
      ]
    },
    {
      "cell_type": "code",
      "source": [
        "#make prediction using the trained model\n",
        "prediction_MLP = model_MLP.predict(x_test)"
      ],
      "metadata": {
        "id": "1GNdOXqgcCL5"
      },
      "execution_count": 29,
      "outputs": []
    },
    {
      "cell_type": "code",
      "source": [
        "#calcualte and print accuracy\n",
        "model_acc_MLP = accuracy_score(y_test, prediction_MLP)*100\n",
        "print(model_acc_MLP)"
      ],
      "metadata": {
        "id": "KRrPPua9cJWd",
        "colab": {
          "base_uri": "https://localhost:8080/"
        },
        "outputId": "86fb4733-72c1-465f-eb9c-7b91729b3775"
      },
      "execution_count": 30,
      "outputs": [
        {
          "output_type": "stream",
          "name": "stdout",
          "text": [
            "92.5925925925926\n"
          ]
        }
      ]
    },
    {
      "cell_type": "code",
      "source": [
        "#generate classification report\n",
        "model_cl_rep_MLP = metrics.classification_report(y_test, prediction_MLP)\n",
        "print(model_cl_rep_MLP)"
      ],
      "metadata": {
        "id": "UlYWPIvocJTM",
        "colab": {
          "base_uri": "https://localhost:8080/"
        },
        "outputId": "dd5d134b-fe42-4f50-89e8-6e62fe8d015e"
      },
      "execution_count": 31,
      "outputs": [
        {
          "output_type": "stream",
          "name": "stdout",
          "text": [
            "              precision    recall  f1-score   support\n",
            "\n",
            "           0       0.90      0.90      0.90        10\n",
            "           1       0.94      0.94      0.94        17\n",
            "\n",
            "    accuracy                           0.93        27\n",
            "   macro avg       0.92      0.92      0.92        27\n",
            "weighted avg       0.93      0.93      0.93        27\n",
            "\n"
          ]
        }
      ]
    },
    {
      "cell_type": "code",
      "source": [
        "#generate confusion matrix\n",
        "model_cm_MLP = metrics.confusion_matrix(y_test, prediction_MLP)\n",
        "print(model_cm_MLP)"
      ],
      "metadata": {
        "id": "GQ6ZL9fOcJQ9",
        "colab": {
          "base_uri": "https://localhost:8080/"
        },
        "outputId": "b2de74a9-c0eb-4ece-c3b7-68fcc7e5010e"
      },
      "execution_count": 32,
      "outputs": [
        {
          "output_type": "stream",
          "name": "stdout",
          "text": [
            "[[ 9  1]\n",
            " [ 1 16]]\n"
          ]
        }
      ]
    },
    {
      "cell_type": "markdown",
      "source": [
        "##**Question 2 Using 80/20 Split train/test Ratio**"
      ],
      "metadata": {
        "id": "7pO3NdF1bKJe"
      }
    },
    {
      "cell_type": "code",
      "source": [
        "#make train/test split\n",
        "Xtw_train, xtw_test, Ytw_train, ytw_test = train_test_split(features, output_gender, test_size = 0.20, random_state = 2)"
      ],
      "metadata": {
        "id": "M5YRvRSocJOz"
      },
      "execution_count": 33,
      "outputs": []
    },
    {
      "cell_type": "code",
      "source": [
        "modeltw_RandomF = RandomForestClassifier()"
      ],
      "metadata": {
        "id": "ru54D0QNcJM8"
      },
      "execution_count": 34,
      "outputs": []
    },
    {
      "cell_type": "code",
      "source": [
        "#train the model using the data (training data)\n",
        "modeltw_RandomF.fit(Xtw_train,Ytw_train)"
      ],
      "metadata": {
        "id": "gYkCcrgucJKb",
        "colab": {
          "base_uri": "https://localhost:8080/"
        },
        "outputId": "bf68f817-6f75-473d-bd79-9bf421c36105"
      },
      "execution_count": 35,
      "outputs": [
        {
          "output_type": "execute_result",
          "data": {
            "text/plain": [
              "RandomForestClassifier()"
            ]
          },
          "metadata": {},
          "execution_count": 35
        }
      ]
    },
    {
      "cell_type": "code",
      "source": [
        "#make prediction using the trained model\n",
        "predictiontwRandomF = modeltw_RandomF.predict(xtw_test)"
      ],
      "metadata": {
        "id": "IESKpsiAcJIG"
      },
      "execution_count": 36,
      "outputs": []
    },
    {
      "cell_type": "code",
      "source": [
        "#calcualte and print accuracy\n",
        "model_acc_twRandomF = accuracy_score(ytw_test, predictiontwRandomF)*100\n",
        "print(model_acc_twRandomF)"
      ],
      "metadata": {
        "id": "i_ih-ZM3cIzm",
        "colab": {
          "base_uri": "https://localhost:8080/"
        },
        "outputId": "7f11cdc7-2080-4fb7-9b19-e1ab6cd51bbf"
      },
      "execution_count": 37,
      "outputs": [
        {
          "output_type": "stream",
          "name": "stdout",
          "text": [
            "100.0\n"
          ]
        }
      ]
    },
    {
      "cell_type": "code",
      "source": [
        "#generate classification report\n",
        "model_cl_rep_twRF = metrics.classification_report(ytw_test, predictiontwRandomF)\n",
        "print(model_cl_rep_twRF)"
      ],
      "metadata": {
        "id": "sLuS9lj1h18-",
        "colab": {
          "base_uri": "https://localhost:8080/"
        },
        "outputId": "9ef0c62f-6217-45c2-fc75-b99834f5e60a"
      },
      "execution_count": 38,
      "outputs": [
        {
          "output_type": "stream",
          "name": "stdout",
          "text": [
            "              precision    recall  f1-score   support\n",
            "\n",
            "           0       1.00      1.00      1.00         6\n",
            "           1       1.00      1.00      1.00        10\n",
            "\n",
            "    accuracy                           1.00        16\n",
            "   macro avg       1.00      1.00      1.00        16\n",
            "weighted avg       1.00      1.00      1.00        16\n",
            "\n"
          ]
        }
      ]
    },
    {
      "cell_type": "code",
      "source": [
        "#generate confusion matrix\n",
        "model_cm_twRF = metrics.confusion_matrix(ytw_test, predictiontwRandomF)\n",
        "print(model_cm_twRF)"
      ],
      "metadata": {
        "id": "rbBo2aFii1Td",
        "colab": {
          "base_uri": "https://localhost:8080/"
        },
        "outputId": "6426cebe-0287-420a-f450-059dc9c20c55"
      },
      "execution_count": 39,
      "outputs": [
        {
          "output_type": "stream",
          "name": "stdout",
          "text": [
            "[[ 6  0]\n",
            " [ 0 10]]\n"
          ]
        }
      ]
    },
    {
      "cell_type": "code",
      "source": [
        "model_twSVC=SVC()"
      ],
      "metadata": {
        "id": "Oq6mDlRCi1QI"
      },
      "execution_count": 40,
      "outputs": []
    },
    {
      "cell_type": "code",
      "source": [
        "#train the model using the data (training data)\n",
        "model_twSVC.fit(Xtw_train,Ytw_train)"
      ],
      "metadata": {
        "id": "761ioTdei1OB",
        "colab": {
          "base_uri": "https://localhost:8080/"
        },
        "outputId": "629cdbb0-5e8a-47c3-e95c-a48669aaedcb"
      },
      "execution_count": 41,
      "outputs": [
        {
          "output_type": "execute_result",
          "data": {
            "text/plain": [
              "SVC()"
            ]
          },
          "metadata": {},
          "execution_count": 41
        }
      ]
    },
    {
      "cell_type": "code",
      "source": [
        "#make prediction using the trained model\n",
        "predictiontwSVC = model_twSVC.predict(xtw_test)"
      ],
      "metadata": {
        "id": "sg-3UtG3i1L7"
      },
      "execution_count": 42,
      "outputs": []
    },
    {
      "cell_type": "code",
      "source": [
        "#calcualte and print accuracy\n",
        "model_acc_twSVC = accuracy_score(ytw_test, predictiontwSVC)*100\n",
        "print(model_acc_twSVC)"
      ],
      "metadata": {
        "id": "oERf5Ad-i1KR",
        "colab": {
          "base_uri": "https://localhost:8080/"
        },
        "outputId": "9ea775b2-1253-48e2-c813-1b86994473a9"
      },
      "execution_count": 43,
      "outputs": [
        {
          "output_type": "stream",
          "name": "stdout",
          "text": [
            "81.25\n"
          ]
        }
      ]
    },
    {
      "cell_type": "code",
      "source": [
        "#generate classification report\n",
        "model_cl_rep_twSVC = metrics.classification_report(ytw_test, predictiontwSVC)\n",
        "print(model_cl_rep_twSVC)"
      ],
      "metadata": {
        "id": "4bsVyhCvi1IZ",
        "colab": {
          "base_uri": "https://localhost:8080/"
        },
        "outputId": "3e085668-5ba8-44f8-ce72-4ae0084f9e95"
      },
      "execution_count": 44,
      "outputs": [
        {
          "output_type": "stream",
          "name": "stdout",
          "text": [
            "              precision    recall  f1-score   support\n",
            "\n",
            "           0       0.80      0.67      0.73         6\n",
            "           1       0.82      0.90      0.86        10\n",
            "\n",
            "    accuracy                           0.81        16\n",
            "   macro avg       0.81      0.78      0.79        16\n",
            "weighted avg       0.81      0.81      0.81        16\n",
            "\n"
          ]
        }
      ]
    },
    {
      "cell_type": "code",
      "source": [
        "#generate confusion matrix\n",
        "model_cm_twSVC = metrics.confusion_matrix(ytw_test, predictiontwSVC)\n",
        "print(model_cm_twSVC)"
      ],
      "metadata": {
        "id": "youWUOiZi1EB",
        "colab": {
          "base_uri": "https://localhost:8080/"
        },
        "outputId": "59ec0d2f-8307-4a45-e3cf-082887b3fb48"
      },
      "execution_count": 45,
      "outputs": [
        {
          "output_type": "stream",
          "name": "stdout",
          "text": [
            "[[4 2]\n",
            " [1 9]]\n"
          ]
        }
      ]
    },
    {
      "cell_type": "code",
      "source": [
        "model_twLSVC=LinearSVC()"
      ],
      "metadata": {
        "id": "8ONj3-punqSc"
      },
      "execution_count": 141,
      "outputs": []
    },
    {
      "cell_type": "code",
      "source": [
        "#train the model using the data (training data)\n",
        "model_twLSVC.fit(Xtw_train,Ytw_train)"
      ],
      "metadata": {
        "id": "ytJkx5s5nqO7",
        "colab": {
          "base_uri": "https://localhost:8080/"
        },
        "outputId": "b71f73ab-74fc-4ca2-8337-08fd0c8ee79b"
      },
      "execution_count": 142,
      "outputs": [
        {
          "output_type": "stream",
          "name": "stderr",
          "text": [
            "/usr/local/lib/python3.8/dist-packages/sklearn/svm/_base.py:1206: ConvergenceWarning: Liblinear failed to converge, increase the number of iterations.\n",
            "  warnings.warn(\n"
          ]
        },
        {
          "output_type": "execute_result",
          "data": {
            "text/plain": [
              "LinearSVC()"
            ]
          },
          "metadata": {},
          "execution_count": 142
        }
      ]
    },
    {
      "cell_type": "code",
      "source": [
        "#make prediction using the trained model\n",
        "predictiontwLSVC = model_twLSVC.predict(xtw_test)"
      ],
      "metadata": {
        "id": "ufhQrKqsnqMc"
      },
      "execution_count": 143,
      "outputs": []
    },
    {
      "cell_type": "code",
      "source": [
        "#calcualte and print accuracy\n",
        "model_acc_twLSVC = accuracy_score(ytw_test, predictiontwLSVC)*100\n",
        "print(model_acc_twLSVC)"
      ],
      "metadata": {
        "id": "6Vc_cipPnqJ_",
        "colab": {
          "base_uri": "https://localhost:8080/"
        },
        "outputId": "8b6521d0-5f69-453c-998f-429772deb51d"
      },
      "execution_count": 144,
      "outputs": [
        {
          "output_type": "stream",
          "name": "stdout",
          "text": [
            "93.75\n"
          ]
        }
      ]
    },
    {
      "cell_type": "code",
      "source": [
        "#generate classification report\n",
        "model_cl_rep_twLSVC = metrics.classification_report(ytw_test, predictiontwLSVC)\n",
        "print(model_cl_rep_twLSVC)"
      ],
      "metadata": {
        "id": "LxzwEkDhnqIA",
        "colab": {
          "base_uri": "https://localhost:8080/"
        },
        "outputId": "11827d33-2740-4da9-ebed-7479e60a6ab0"
      },
      "execution_count": 145,
      "outputs": [
        {
          "output_type": "stream",
          "name": "stdout",
          "text": [
            "              precision    recall  f1-score   support\n",
            "\n",
            "           0       0.86      1.00      0.92         6\n",
            "           1       1.00      0.90      0.95        10\n",
            "\n",
            "    accuracy                           0.94        16\n",
            "   macro avg       0.93      0.95      0.94        16\n",
            "weighted avg       0.95      0.94      0.94        16\n",
            "\n"
          ]
        }
      ]
    },
    {
      "cell_type": "code",
      "source": [
        "#generate confusion matrix\n",
        "model_cm_twLSVC = metrics.confusion_matrix(ytw_test, predictiontwLSVC)\n",
        "print(model_cm_twLSVC)"
      ],
      "metadata": {
        "id": "iAPUWT3mnqGq",
        "colab": {
          "base_uri": "https://localhost:8080/"
        },
        "outputId": "caea3d2d-a99a-4bf7-b60d-de49a3a5ebce"
      },
      "execution_count": 146,
      "outputs": [
        {
          "output_type": "stream",
          "name": "stdout",
          "text": [
            "[[6 0]\n",
            " [1 9]]\n"
          ]
        }
      ]
    },
    {
      "cell_type": "code",
      "source": [
        "model_twMLP=MLPClassifier()"
      ],
      "metadata": {
        "id": "iO6iAufXnqFN"
      },
      "execution_count": 154,
      "outputs": []
    },
    {
      "cell_type": "code",
      "source": [
        "#train the model using the data (training data)\n",
        "model_twMLP.fit(Xtw_train,Ytw_train)"
      ],
      "metadata": {
        "id": "k0vadnj7nqAw",
        "colab": {
          "base_uri": "https://localhost:8080/"
        },
        "outputId": "69702891-4aca-4f5a-90fb-bcbdf27bad47"
      },
      "execution_count": 155,
      "outputs": [
        {
          "output_type": "stream",
          "name": "stderr",
          "text": [
            "/usr/local/lib/python3.8/dist-packages/sklearn/neural_network/_multilayer_perceptron.py:692: ConvergenceWarning: Stochastic Optimizer: Maximum iterations (200) reached and the optimization hasn't converged yet.\n",
            "  warnings.warn(\n"
          ]
        },
        {
          "output_type": "execute_result",
          "data": {
            "text/plain": [
              "MLPClassifier()"
            ]
          },
          "metadata": {},
          "execution_count": 155
        }
      ]
    },
    {
      "cell_type": "code",
      "source": [
        "#make prediction using the trained model\n",
        "predictiontwMLP = model_twMLP.predict(xtw_test)"
      ],
      "metadata": {
        "id": "1sii4X6bnp9B"
      },
      "execution_count": 156,
      "outputs": []
    },
    {
      "cell_type": "code",
      "source": [
        "#calcualte and print accuracy\n",
        "model_acc_twMLP = accuracy_score(ytw_test, predictiontwMLP)*100\n",
        "print(model_acc_twMLP)"
      ],
      "metadata": {
        "id": "g553pf6ApANe",
        "colab": {
          "base_uri": "https://localhost:8080/"
        },
        "outputId": "0c6940c2-5928-45da-c04d-08dcd5a5235b"
      },
      "execution_count": 157,
      "outputs": [
        {
          "output_type": "stream",
          "name": "stdout",
          "text": [
            "100.0\n"
          ]
        }
      ]
    },
    {
      "cell_type": "code",
      "source": [
        "#generate classification report\n",
        "model_cl_rep_twMLP = metrics.classification_report(ytw_test, predictiontwMLP)\n",
        "print(model_cl_rep_twMLP)"
      ],
      "metadata": {
        "id": "3aEJfantpAJ6",
        "colab": {
          "base_uri": "https://localhost:8080/"
        },
        "outputId": "ec6acab2-c6ec-4adc-ef6a-668908e83a7e"
      },
      "execution_count": 158,
      "outputs": [
        {
          "output_type": "stream",
          "name": "stdout",
          "text": [
            "              precision    recall  f1-score   support\n",
            "\n",
            "           0       1.00      1.00      1.00         6\n",
            "           1       1.00      1.00      1.00        10\n",
            "\n",
            "    accuracy                           1.00        16\n",
            "   macro avg       1.00      1.00      1.00        16\n",
            "weighted avg       1.00      1.00      1.00        16\n",
            "\n"
          ]
        }
      ]
    },
    {
      "cell_type": "code",
      "source": [
        "#generate confusion matrix\n",
        "model_cm_twMLP = metrics.confusion_matrix(ytw_test, predictiontwMLP)\n",
        "print(model_cm_twMLP)"
      ],
      "metadata": {
        "id": "Y3KoIpOIpABM",
        "colab": {
          "base_uri": "https://localhost:8080/"
        },
        "outputId": "671bcb78-931f-4930-aabe-2c251258c024"
      },
      "execution_count": 159,
      "outputs": [
        {
          "output_type": "stream",
          "name": "stdout",
          "text": [
            "[[ 6  0]\n",
            " [ 0 10]]\n"
          ]
        }
      ]
    },
    {
      "cell_type": "markdown",
      "source": [
        "## **Question 2 Using 80/20 Split train/test Ratio Excluding Beard and Scarf Attributes**"
      ],
      "metadata": {
        "id": "FzQo9DIAbwgD"
      }
    },
    {
      "cell_type": "code",
      "source": [
        "#combining data (inputs ) into single list of tuples\n",
        "features_woutbs = list(zip(first_height,first_weight,hairlength_encod,first_shoe_size,eyecolor_encod))\n",
        "output_gender =gender_encod \n",
        "\n",
        "print(features_woutbs)\n",
        "print(output_gender)"
      ],
      "metadata": {
        "colab": {
          "base_uri": "https://localhost:8080/"
        },
        "id": "yiD2G7Nro_9q",
        "outputId": "253b08f7-d488-4d43-c91f-0b103659be7f"
      },
      "execution_count": 58,
      "outputs": [
        {
          "output_type": "stream",
          "name": "stdout",
          "text": [
            "[(71, 176, 3, 44, 0), (68, 165, 0, 41, 0), (62, 132, 2, 37, 1), (65, 138, 1, 38, 3), (70, 197, 2, 43, 3), (71, 190, 3, 43, 0), (74, 201, 0, 44, 2), (74, 182, 3, 46, 2), (63, 127, 3, 35, 4), (65, 139, 2, 37, 3), (66, 125, 1, 36, 3), (73, 188, 3, 42, 3), (74, 167, 2, 41, 0), (68, 141, 1, 38, 3), (70, 199, 2, 40, 0), (73, 189, 3, 43, 1), (69, 159, 3, 43, 0), (68, 135, 1, 37, 4), (68, 145, 1, 38, 3), (66, 138, 2, 37, 4), (66, 132, 2, 40, 0), (71, 170, 2, 42, 0), (67, 119, 3, 40, 0), (70, 190, 2, 43, 3), (68, 154, 2, 38, 2), (71, 155, 2, 45, 2), (69, 121, 2, 41, 0), (68, 97, 2, 39, 4), (68, 158, 1, 38, 1), (58, 92, 3, 40, 3), (63, 109, 2, 37, 2), (71, 158, 2, 44, 3), (61, 88, 1, 37, 3), (67, 132, 2, 38, 0), (62, 116, 2, 39, 2), (71, 125, 2, 42, 2), (63, 125, 2, 39, 4), (68, 121, 2, 40, 0), (67, 145, 1, 39, 3), (65, 99, 2, 38, 4), (61, 98, 3, 37, 3), (70, 167, 2, 42, 0), (64, 122, 2, 42, 0), (61, 156, 3, 41, 2), (69, 178, 0, 44, 0), (72, 150, 2, 43, 2), (70, 160, 1, 42, 0), (67, 167, 2, 42, 2), (72, 153, 2, 42, 0), (67, 130, 2, 40, 0), (72, 154, 2, 42, 0), (67, 119, 2, 40, 2), (65, 160, 2, 41, 2), (70, 121, 2, 45, 2), (63, 103, 1, 38, 2), (74, 218, 2, 43, 0), (72, 145, 2, 42, 2), (67, 99, 1, 39, 3), (69, 209, 2, 43, 2), (67, 143, 2, 38, 2), (70, 209, 2, 44, 2), (71, 145, 2, 44, 2), (72, 185, 3, 44, 2), (65, 96, 1, 37, 4), (60, 125, 1, 38, 3), (70, 166, 0, 40, 0), (63, 102, 1, 38, 4), (67, 133, 3, 40, 0), (62, 105, 2, 37, 0), (71, 168, 3, 42, 0), (62, 100, 1, 38, 2), (74, 202, 2, 43, 0), (72, 165, 2, 44, 2), (65, 98, 1, 38, 3), (67, 145, 1, 39, 4), (65, 99, 3, 39, 4), (61, 98, 3, 37, 2), (67, 119, 3, 40, 0), (70, 190, 2, 43, 3), (62, 142, 1, 37, 1)]\n",
            "[1 1 0 0 1 1 1 1 0 0 0 1 1 0 1 1 1 0 0 0 0 1 1 1 0 1 1 0 0 0 0 1 0 0 0 1 0\n",
            " 1 0 0 0 1 1 1 1 1 1 1 1 1 1 1 1 1 0 1 1 0 1 1 1 1 1 0 0 1 0 1 0 1 0 1 1 0\n",
            " 0 0 0 1 1 0]\n"
          ]
        }
      ]
    },
    {
      "cell_type": "code",
      "source": [
        "#make train/test split\n",
        "Xtwwt_train, xtwwt_test, Ytwwt_train, ytwwt_test = train_test_split(features_woutbs, output_gender, test_size = 0.20, random_state = 2)"
      ],
      "metadata": {
        "id": "KbN08isQo_7J"
      },
      "execution_count": 59,
      "outputs": []
    },
    {
      "cell_type": "code",
      "source": [
        "modeltwwt_RandomF = RandomForestClassifier()"
      ],
      "metadata": {
        "id": "1Q4c_Tpwo_4M"
      },
      "execution_count": 60,
      "outputs": []
    },
    {
      "cell_type": "code",
      "source": [
        "#train the model using the data (training data)\n",
        "modeltwwt_RandomF.fit(Xtwwt_train,Ytwwt_train)"
      ],
      "metadata": {
        "id": "OJASnYUro_1T",
        "colab": {
          "base_uri": "https://localhost:8080/"
        },
        "outputId": "a4097e30-a7ed-4e43-d535-ce526cecb537"
      },
      "execution_count": 61,
      "outputs": [
        {
          "output_type": "execute_result",
          "data": {
            "text/plain": [
              "RandomForestClassifier()"
            ]
          },
          "metadata": {},
          "execution_count": 61
        }
      ]
    },
    {
      "cell_type": "code",
      "source": [
        "#make prediction using the trained model\n",
        "predictiontwwtRandomF = modeltwwt_RandomF.predict(xtwwt_test)"
      ],
      "metadata": {
        "id": "fTT4vFlQ-aak"
      },
      "execution_count": 62,
      "outputs": []
    },
    {
      "cell_type": "code",
      "source": [
        "#calcualte and print accuracy\n",
        "model_acc_twwtRandomF = accuracy_score(ytwwt_test, predictiontwwtRandomF)*100\n",
        "print(model_acc_twwtRandomF)"
      ],
      "metadata": {
        "colab": {
          "base_uri": "https://localhost:8080/"
        },
        "id": "Kyl4KLhM-aXH",
        "outputId": "be9ad406-aa4e-4db8-848f-039e3be204d8"
      },
      "execution_count": 63,
      "outputs": [
        {
          "output_type": "stream",
          "name": "stdout",
          "text": [
            "100.0\n"
          ]
        }
      ]
    },
    {
      "cell_type": "code",
      "source": [
        "#generate classification report\n",
        "model_cl_rep_twwtRF = metrics.classification_report(ytwwt_test, predictiontwwtRandomF)\n",
        "print(model_cl_rep_twwtRF)"
      ],
      "metadata": {
        "colab": {
          "base_uri": "https://localhost:8080/"
        },
        "id": "dWxcPrrV-aUu",
        "outputId": "098fc1bf-8550-4622-8c64-ab2ca37a3f37"
      },
      "execution_count": 64,
      "outputs": [
        {
          "output_type": "stream",
          "name": "stdout",
          "text": [
            "              precision    recall  f1-score   support\n",
            "\n",
            "           0       1.00      1.00      1.00         6\n",
            "           1       1.00      1.00      1.00        10\n",
            "\n",
            "    accuracy                           1.00        16\n",
            "   macro avg       1.00      1.00      1.00        16\n",
            "weighted avg       1.00      1.00      1.00        16\n",
            "\n"
          ]
        }
      ]
    },
    {
      "cell_type": "code",
      "source": [
        "#generate confusion matrix\n",
        "model_cm_twwtRF = metrics.confusion_matrix(ytwwt_test, predictiontwwtRandomF)\n",
        "print(model_cm_twwtRF)"
      ],
      "metadata": {
        "colab": {
          "base_uri": "https://localhost:8080/"
        },
        "id": "3DyiVK-K-aSC",
        "outputId": "c912790b-edfe-48f7-d252-08f386894f99"
      },
      "execution_count": 65,
      "outputs": [
        {
          "output_type": "stream",
          "name": "stdout",
          "text": [
            "[[ 6  0]\n",
            " [ 0 10]]\n"
          ]
        }
      ]
    },
    {
      "cell_type": "code",
      "source": [
        "model_twwtSVC=SVC()"
      ],
      "metadata": {
        "id": "9c3bv6HD-aPi"
      },
      "execution_count": 160,
      "outputs": []
    },
    {
      "cell_type": "code",
      "source": [
        "#train the model using the data (training data)\n",
        "model_twwtSVC.fit(Xtwwt_train,Ytwwt_train)"
      ],
      "metadata": {
        "colab": {
          "base_uri": "https://localhost:8080/"
        },
        "id": "m3nvNhn7-aNN",
        "outputId": "72b47f72-5d1f-43d2-d0ba-0bbdac98de37"
      },
      "execution_count": 161,
      "outputs": [
        {
          "output_type": "execute_result",
          "data": {
            "text/plain": [
              "SVC()"
            ]
          },
          "metadata": {},
          "execution_count": 161
        }
      ]
    },
    {
      "cell_type": "code",
      "source": [
        "#make prediction using the trained model\n",
        "predictiontwwtSVC = model_twwtSVC.predict(xtwwt_test)"
      ],
      "metadata": {
        "id": "-U1Pkg_Q-aLS"
      },
      "execution_count": 162,
      "outputs": []
    },
    {
      "cell_type": "code",
      "source": [
        "#calcualte and print accuracy\n",
        "model_acc_twwtSVC = accuracy_score(ytwwt_test, predictiontwwtSVC)*100\n",
        "print(model_acc_twwtSVC)"
      ],
      "metadata": {
        "colab": {
          "base_uri": "https://localhost:8080/"
        },
        "id": "lPZOAH-j-aIS",
        "outputId": "3876e986-eaa7-42a3-bcb6-b4e552b519b1"
      },
      "execution_count": 163,
      "outputs": [
        {
          "output_type": "stream",
          "name": "stdout",
          "text": [
            "81.25\n"
          ]
        }
      ]
    },
    {
      "cell_type": "code",
      "source": [
        "#generate classification report\n",
        "model_cl_rep_twwtSVC = metrics.classification_report(ytwwt_test, predictiontwwtSVC)\n",
        "print(model_cl_rep_twwtSVC)"
      ],
      "metadata": {
        "colab": {
          "base_uri": "https://localhost:8080/"
        },
        "id": "peAKBkFH-Z-H",
        "outputId": "5daf08a9-305e-48f4-b916-917a95dc7146"
      },
      "execution_count": 164,
      "outputs": [
        {
          "output_type": "stream",
          "name": "stdout",
          "text": [
            "              precision    recall  f1-score   support\n",
            "\n",
            "           0       0.80      0.67      0.73         6\n",
            "           1       0.82      0.90      0.86        10\n",
            "\n",
            "    accuracy                           0.81        16\n",
            "   macro avg       0.81      0.78      0.79        16\n",
            "weighted avg       0.81      0.81      0.81        16\n",
            "\n"
          ]
        }
      ]
    },
    {
      "cell_type": "code",
      "source": [
        "#generate confusion matrix\n",
        "model_cm_twwtSVC = metrics.confusion_matrix(ytwwt_test, predictiontwwtSVC)\n",
        "print(model_cm_twwtSVC)"
      ],
      "metadata": {
        "colab": {
          "base_uri": "https://localhost:8080/"
        },
        "id": "hknJbE3cAGEX",
        "outputId": "f797752b-dff9-481e-c120-f6c2fdc2dbdb"
      },
      "execution_count": 165,
      "outputs": [
        {
          "output_type": "stream",
          "name": "stdout",
          "text": [
            "[[4 2]\n",
            " [1 9]]\n"
          ]
        }
      ]
    },
    {
      "cell_type": "code",
      "source": [
        "model_twwtLSVC=LinearSVC()"
      ],
      "metadata": {
        "id": "rskNJl-hAGA7"
      },
      "execution_count": 78,
      "outputs": []
    },
    {
      "cell_type": "code",
      "source": [
        "#train the model using the data (training data)\n",
        "model_twwtLSVC.fit(Xtwwt_train,Ytwwt_train)"
      ],
      "metadata": {
        "colab": {
          "base_uri": "https://localhost:8080/"
        },
        "id": "_HpLgZppAF-d",
        "outputId": "e3f98f41-18b3-4bb0-c270-928d5b8608de"
      },
      "execution_count": 79,
      "outputs": [
        {
          "output_type": "stream",
          "name": "stderr",
          "text": [
            "/usr/local/lib/python3.8/dist-packages/sklearn/svm/_base.py:1206: ConvergenceWarning: Liblinear failed to converge, increase the number of iterations.\n",
            "  warnings.warn(\n"
          ]
        },
        {
          "output_type": "execute_result",
          "data": {
            "text/plain": [
              "LinearSVC()"
            ]
          },
          "metadata": {},
          "execution_count": 79
        }
      ]
    },
    {
      "cell_type": "code",
      "source": [
        "#make prediction using the trained model\n",
        "predictiontwwtLSVC = model_twwtLSVC.predict(xtwwt_test)"
      ],
      "metadata": {
        "id": "hanYdOKNAF8A"
      },
      "execution_count": 80,
      "outputs": []
    },
    {
      "cell_type": "code",
      "source": [
        "#calcualte and print accuracy\n",
        "model_acc_twwtLSVC = accuracy_score(ytwwt_test, predictiontwwtLSVC)*100\n",
        "print(model_acc_twwtLSVC)"
      ],
      "metadata": {
        "colab": {
          "base_uri": "https://localhost:8080/"
        },
        "id": "2ItXtvG4AF6T",
        "outputId": "1605cd48-5780-4e13-8f09-50555015d1d9"
      },
      "execution_count": 81,
      "outputs": [
        {
          "output_type": "stream",
          "name": "stdout",
          "text": [
            "68.75\n"
          ]
        }
      ]
    },
    {
      "cell_type": "code",
      "source": [
        "#generate classification report\n",
        "model_cl_rep_twwtLSVC = metrics.classification_report(ytwwt_test, predictiontwwtLSVC)\n",
        "print(model_cl_rep_twwtLSVC)"
      ],
      "metadata": {
        "colab": {
          "base_uri": "https://localhost:8080/"
        },
        "id": "XMnyxThAAF4J",
        "outputId": "da4940b0-e774-4737-d00b-5eb3ee5a8056"
      },
      "execution_count": 82,
      "outputs": [
        {
          "output_type": "stream",
          "name": "stdout",
          "text": [
            "              precision    recall  f1-score   support\n",
            "\n",
            "           0       1.00      0.17      0.29         6\n",
            "           1       0.67      1.00      0.80        10\n",
            "\n",
            "    accuracy                           0.69        16\n",
            "   macro avg       0.83      0.58      0.54        16\n",
            "weighted avg       0.79      0.69      0.61        16\n",
            "\n"
          ]
        }
      ]
    },
    {
      "cell_type": "code",
      "source": [
        "#generate confusion matrix\n",
        "model_cm_twwtLSVC = metrics.confusion_matrix(ytwwt_test, predictiontwwtLSVC)\n",
        "print(model_cm_twwtLSVC)"
      ],
      "metadata": {
        "colab": {
          "base_uri": "https://localhost:8080/"
        },
        "id": "X9Aw5p0uAF0y",
        "outputId": "f5ab5957-b2a4-4679-ae23-09520c7f44f1"
      },
      "execution_count": 83,
      "outputs": [
        {
          "output_type": "stream",
          "name": "stdout",
          "text": [
            "[[ 1  5]\n",
            " [ 0 10]]\n"
          ]
        }
      ]
    },
    {
      "cell_type": "code",
      "source": [
        "model_twwtMLP=MLPClassifier()"
      ],
      "metadata": {
        "id": "UJGZLnfyBK2P"
      },
      "execution_count": 100,
      "outputs": []
    },
    {
      "cell_type": "code",
      "source": [
        "#train the model using the data (training data)\n",
        "model_twwtMLP.fit(Xtwwt_train,Ytwwt_train)"
      ],
      "metadata": {
        "colab": {
          "base_uri": "https://localhost:8080/"
        },
        "id": "pMCfwUYxBKyt",
        "outputId": "5751a767-b275-4423-8e50-61d476c81754"
      },
      "execution_count": 101,
      "outputs": [
        {
          "output_type": "execute_result",
          "data": {
            "text/plain": [
              "MLPClassifier()"
            ]
          },
          "metadata": {},
          "execution_count": 101
        }
      ]
    },
    {
      "cell_type": "code",
      "source": [
        "#make prediction using the trained model\n",
        "predictiontwwtMLP = model_twwtMLP.predict(xtwwt_test)"
      ],
      "metadata": {
        "id": "LJpBoaWfBKwB"
      },
      "execution_count": 102,
      "outputs": []
    },
    {
      "cell_type": "code",
      "source": [
        "#calcualte and print accuracy\n",
        "model_acc_twwtMLP = accuracy_score(ytwwt_test, predictiontwwtMLP)*100\n",
        "print(model_acc_twwtMLP)"
      ],
      "metadata": {
        "colab": {
          "base_uri": "https://localhost:8080/"
        },
        "id": "CYVcODT7BKtb",
        "outputId": "fea6d573-07c4-45c5-da1b-d61973e606f9"
      },
      "execution_count": 103,
      "outputs": [
        {
          "output_type": "stream",
          "name": "stdout",
          "text": [
            "75.0\n"
          ]
        }
      ]
    },
    {
      "cell_type": "code",
      "source": [
        "#generate classification report\n",
        "model_cl_rep_twwtMLP = metrics.classification_report(ytwwt_test, predictiontwwtMLP)\n",
        "print(model_cl_rep_twwtMLP)"
      ],
      "metadata": {
        "colab": {
          "base_uri": "https://localhost:8080/"
        },
        "id": "4I2QytpsBKq2",
        "outputId": "506f717c-0539-4939-b59c-3fa59f5d4c24"
      },
      "execution_count": 104,
      "outputs": [
        {
          "output_type": "stream",
          "name": "stdout",
          "text": [
            "              precision    recall  f1-score   support\n",
            "\n",
            "           0       1.00      0.33      0.50         6\n",
            "           1       0.71      1.00      0.83        10\n",
            "\n",
            "    accuracy                           0.75        16\n",
            "   macro avg       0.86      0.67      0.67        16\n",
            "weighted avg       0.82      0.75      0.71        16\n",
            "\n"
          ]
        }
      ]
    },
    {
      "cell_type": "code",
      "source": [
        "#generate confusion matrix\n",
        "model_cm_twwtMLP = metrics.confusion_matrix(ytwwt_test, predictiontwwtMLP)\n",
        "print(model_cm_twwtMLP)"
      ],
      "metadata": {
        "colab": {
          "base_uri": "https://localhost:8080/"
        },
        "id": "nRjufxFIBKoJ",
        "outputId": "0309b016-cdaf-42ca-fab9-ac2d0c51f202"
      },
      "execution_count": 105,
      "outputs": [
        {
          "output_type": "stream",
          "name": "stdout",
          "text": [
            "[[ 2  4]\n",
            " [ 0 10]]\n"
          ]
        }
      ]
    },
    {
      "cell_type": "markdown",
      "source": [
        "## **Question No 3**"
      ],
      "metadata": {
        "id": "MDLEmmG2cJcI"
      }
    },
    {
      "cell_type": "code",
      "source": [
        "model_DTC = DecisionTreeClassifier()"
      ],
      "metadata": {
        "id": "Fblxw0GiBKlN"
      },
      "execution_count": 106,
      "outputs": []
    },
    {
      "cell_type": "code",
      "source": [
        "splitcv=ShuffleSplit(n_splits=10,test_size=0.33,random_state=2)"
      ],
      "metadata": {
        "id": "K7_Io7TKBKij"
      },
      "execution_count": 107,
      "outputs": []
    },
    {
      "cell_type": "code",
      "source": [
        "#monte carlo cross validation\n",
        "f1_score = cross_val_score(model_DTC, features, output_gender,scoring='f1', cv=splitcv).mean()\n",
        "f1_score"
      ],
      "metadata": {
        "colab": {
          "base_uri": "https://localhost:8080/"
        },
        "id": "VxvepTTuBKf7",
        "outputId": "16c17ce3-d84f-4776-b8f8-9d3fbfc2a6f2"
      },
      "execution_count": 108,
      "outputs": [
        {
          "output_type": "execute_result",
          "data": {
            "text/plain": [
              "0.9425376781480785"
            ]
          },
          "metadata": {},
          "execution_count": 108
        }
      ]
    },
    {
      "cell_type": "code",
      "source": [
        "#LeavePout cross validation\n",
        "leave_pout = LeavePOut(p=2)  \n",
        "leave_pout.get_n_splits(features)  \n"
      ],
      "metadata": {
        "colab": {
          "base_uri": "https://localhost:8080/"
        },
        "id": "iXnNzWIBBKdN",
        "outputId": "6bae6b57-e555-4229-c182-25834b4ec8f2"
      },
      "execution_count": 109,
      "outputs": [
        {
          "output_type": "execute_result",
          "data": {
            "text/plain": [
              "3160"
            ]
          },
          "metadata": {},
          "execution_count": 109
        }
      ]
    },
    {
      "cell_type": "code",
      "source": [
        "#f1 score using leave p-out cross validation\n",
        "f1_score = cross_val_score(model_DTC, features, output_gender,scoring='f1', cv=leave_pout).mean()"
      ],
      "metadata": {
        "id": "PaLXmnleBKbW"
      },
      "execution_count": null,
      "outputs": []
    },
    {
      "cell_type": "code",
      "source": [
        "f1_score"
      ],
      "metadata": {
        "colab": {
          "base_uri": "https://localhost:8080/"
        },
        "id": "IvaxqpQkBKZp",
        "outputId": "93a5ba4f-1394-4bec-8b5e-dccb126f1c9f"
      },
      "execution_count": 111,
      "outputs": [
        {
          "output_type": "execute_result",
          "data": {
            "text/plain": [
              "0.7740506329113924"
            ]
          },
          "metadata": {},
          "execution_count": 111
        }
      ]
    },
    {
      "cell_type": "markdown",
      "source": [
        "## **Question 4**"
      ],
      "metadata": {
        "id": "rEgWGHJPcTMZ"
      }
    },
    {
      "cell_type": "code",
      "source": [
        "#read CSV (dataset) file\n",
        "df_gender_updated = pd.read_csv('/content/drive/My Drive/gender_prediction_updated - gender-prediction.csv')\n",
        "df_gender_updated"
      ],
      "metadata": {
        "id": "pVm5Z5bzBKYH",
        "colab": {
          "base_uri": "https://localhost:8080/",
          "height": 424
        },
        "outputId": "c20ecc82-2065-4168-9803-f928291246ea"
      },
      "execution_count": 123,
      "outputs": [
        {
          "output_type": "execute_result",
          "data": {
            "text/plain": [
              "    height  weight beard hair_length  shoe_size scarf eye_color  gender\n",
              "0       71     176   yes       short         44    no     black    male\n",
              "1       68     165    no        bald         41    no     black    male\n",
              "2       62     132    no      medium         37   yes      blue  female\n",
              "3       65     138    no        long         38    no      gray  female\n",
              "4       70     197   yes      medium         43    no      gray    male\n",
              "..     ...     ...   ...         ...        ...   ...       ...     ...\n",
              "80      73      96   yes       short         41    no     green    male\n",
              "81      63     120    no        long         33    no     brown  female\n",
              "82      59     100    no      medium         42    no     black    male\n",
              "83      75     130   yes       short         33    no      blue    male\n",
              "84      60     200    no      medium         40   yes     green  female\n",
              "\n",
              "[85 rows x 8 columns]"
            ],
            "text/html": [
              "\n",
              "  <div id=\"df-7bdb524d-885f-47e0-8188-e4de1aed12e1\">\n",
              "    <div class=\"colab-df-container\">\n",
              "      <div>\n",
              "<style scoped>\n",
              "    .dataframe tbody tr th:only-of-type {\n",
              "        vertical-align: middle;\n",
              "    }\n",
              "\n",
              "    .dataframe tbody tr th {\n",
              "        vertical-align: top;\n",
              "    }\n",
              "\n",
              "    .dataframe thead th {\n",
              "        text-align: right;\n",
              "    }\n",
              "</style>\n",
              "<table border=\"1\" class=\"dataframe\">\n",
              "  <thead>\n",
              "    <tr style=\"text-align: right;\">\n",
              "      <th></th>\n",
              "      <th>height</th>\n",
              "      <th>weight</th>\n",
              "      <th>beard</th>\n",
              "      <th>hair_length</th>\n",
              "      <th>shoe_size</th>\n",
              "      <th>scarf</th>\n",
              "      <th>eye_color</th>\n",
              "      <th>gender</th>\n",
              "    </tr>\n",
              "  </thead>\n",
              "  <tbody>\n",
              "    <tr>\n",
              "      <th>0</th>\n",
              "      <td>71</td>\n",
              "      <td>176</td>\n",
              "      <td>yes</td>\n",
              "      <td>short</td>\n",
              "      <td>44</td>\n",
              "      <td>no</td>\n",
              "      <td>black</td>\n",
              "      <td>male</td>\n",
              "    </tr>\n",
              "    <tr>\n",
              "      <th>1</th>\n",
              "      <td>68</td>\n",
              "      <td>165</td>\n",
              "      <td>no</td>\n",
              "      <td>bald</td>\n",
              "      <td>41</td>\n",
              "      <td>no</td>\n",
              "      <td>black</td>\n",
              "      <td>male</td>\n",
              "    </tr>\n",
              "    <tr>\n",
              "      <th>2</th>\n",
              "      <td>62</td>\n",
              "      <td>132</td>\n",
              "      <td>no</td>\n",
              "      <td>medium</td>\n",
              "      <td>37</td>\n",
              "      <td>yes</td>\n",
              "      <td>blue</td>\n",
              "      <td>female</td>\n",
              "    </tr>\n",
              "    <tr>\n",
              "      <th>3</th>\n",
              "      <td>65</td>\n",
              "      <td>138</td>\n",
              "      <td>no</td>\n",
              "      <td>long</td>\n",
              "      <td>38</td>\n",
              "      <td>no</td>\n",
              "      <td>gray</td>\n",
              "      <td>female</td>\n",
              "    </tr>\n",
              "    <tr>\n",
              "      <th>4</th>\n",
              "      <td>70</td>\n",
              "      <td>197</td>\n",
              "      <td>yes</td>\n",
              "      <td>medium</td>\n",
              "      <td>43</td>\n",
              "      <td>no</td>\n",
              "      <td>gray</td>\n",
              "      <td>male</td>\n",
              "    </tr>\n",
              "    <tr>\n",
              "      <th>...</th>\n",
              "      <td>...</td>\n",
              "      <td>...</td>\n",
              "      <td>...</td>\n",
              "      <td>...</td>\n",
              "      <td>...</td>\n",
              "      <td>...</td>\n",
              "      <td>...</td>\n",
              "      <td>...</td>\n",
              "    </tr>\n",
              "    <tr>\n",
              "      <th>80</th>\n",
              "      <td>73</td>\n",
              "      <td>96</td>\n",
              "      <td>yes</td>\n",
              "      <td>short</td>\n",
              "      <td>41</td>\n",
              "      <td>no</td>\n",
              "      <td>green</td>\n",
              "      <td>male</td>\n",
              "    </tr>\n",
              "    <tr>\n",
              "      <th>81</th>\n",
              "      <td>63</td>\n",
              "      <td>120</td>\n",
              "      <td>no</td>\n",
              "      <td>long</td>\n",
              "      <td>33</td>\n",
              "      <td>no</td>\n",
              "      <td>brown</td>\n",
              "      <td>female</td>\n",
              "    </tr>\n",
              "    <tr>\n",
              "      <th>82</th>\n",
              "      <td>59</td>\n",
              "      <td>100</td>\n",
              "      <td>no</td>\n",
              "      <td>medium</td>\n",
              "      <td>42</td>\n",
              "      <td>no</td>\n",
              "      <td>black</td>\n",
              "      <td>male</td>\n",
              "    </tr>\n",
              "    <tr>\n",
              "      <th>83</th>\n",
              "      <td>75</td>\n",
              "      <td>130</td>\n",
              "      <td>yes</td>\n",
              "      <td>short</td>\n",
              "      <td>33</td>\n",
              "      <td>no</td>\n",
              "      <td>blue</td>\n",
              "      <td>male</td>\n",
              "    </tr>\n",
              "    <tr>\n",
              "      <th>84</th>\n",
              "      <td>60</td>\n",
              "      <td>200</td>\n",
              "      <td>no</td>\n",
              "      <td>medium</td>\n",
              "      <td>40</td>\n",
              "      <td>yes</td>\n",
              "      <td>green</td>\n",
              "      <td>female</td>\n",
              "    </tr>\n",
              "  </tbody>\n",
              "</table>\n",
              "<p>85 rows × 8 columns</p>\n",
              "</div>\n",
              "      <button class=\"colab-df-convert\" onclick=\"convertToInteractive('df-7bdb524d-885f-47e0-8188-e4de1aed12e1')\"\n",
              "              title=\"Convert this dataframe to an interactive table.\"\n",
              "              style=\"display:none;\">\n",
              "        \n",
              "  <svg xmlns=\"http://www.w3.org/2000/svg\" height=\"24px\"viewBox=\"0 0 24 24\"\n",
              "       width=\"24px\">\n",
              "    <path d=\"M0 0h24v24H0V0z\" fill=\"none\"/>\n",
              "    <path d=\"M18.56 5.44l.94 2.06.94-2.06 2.06-.94-2.06-.94-.94-2.06-.94 2.06-2.06.94zm-11 1L8.5 8.5l.94-2.06 2.06-.94-2.06-.94L8.5 2.5l-.94 2.06-2.06.94zm10 10l.94 2.06.94-2.06 2.06-.94-2.06-.94-.94-2.06-.94 2.06-2.06.94z\"/><path d=\"M17.41 7.96l-1.37-1.37c-.4-.4-.92-.59-1.43-.59-.52 0-1.04.2-1.43.59L10.3 9.45l-7.72 7.72c-.78.78-.78 2.05 0 2.83L4 21.41c.39.39.9.59 1.41.59.51 0 1.02-.2 1.41-.59l7.78-7.78 2.81-2.81c.8-.78.8-2.07 0-2.86zM5.41 20L4 18.59l7.72-7.72 1.47 1.35L5.41 20z\"/>\n",
              "  </svg>\n",
              "      </button>\n",
              "      \n",
              "  <style>\n",
              "    .colab-df-container {\n",
              "      display:flex;\n",
              "      flex-wrap:wrap;\n",
              "      gap: 12px;\n",
              "    }\n",
              "\n",
              "    .colab-df-convert {\n",
              "      background-color: #E8F0FE;\n",
              "      border: none;\n",
              "      border-radius: 50%;\n",
              "      cursor: pointer;\n",
              "      display: none;\n",
              "      fill: #1967D2;\n",
              "      height: 32px;\n",
              "      padding: 0 0 0 0;\n",
              "      width: 32px;\n",
              "    }\n",
              "\n",
              "    .colab-df-convert:hover {\n",
              "      background-color: #E2EBFA;\n",
              "      box-shadow: 0px 1px 2px rgba(60, 64, 67, 0.3), 0px 1px 3px 1px rgba(60, 64, 67, 0.15);\n",
              "      fill: #174EA6;\n",
              "    }\n",
              "\n",
              "    [theme=dark] .colab-df-convert {\n",
              "      background-color: #3B4455;\n",
              "      fill: #D2E3FC;\n",
              "    }\n",
              "\n",
              "    [theme=dark] .colab-df-convert:hover {\n",
              "      background-color: #434B5C;\n",
              "      box-shadow: 0px 1px 3px 1px rgba(0, 0, 0, 0.15);\n",
              "      filter: drop-shadow(0px 1px 2px rgba(0, 0, 0, 0.3));\n",
              "      fill: #FFFFFF;\n",
              "    }\n",
              "  </style>\n",
              "\n",
              "      <script>\n",
              "        const buttonEl =\n",
              "          document.querySelector('#df-7bdb524d-885f-47e0-8188-e4de1aed12e1 button.colab-df-convert');\n",
              "        buttonEl.style.display =\n",
              "          google.colab.kernel.accessAllowed ? 'block' : 'none';\n",
              "\n",
              "        async function convertToInteractive(key) {\n",
              "          const element = document.querySelector('#df-7bdb524d-885f-47e0-8188-e4de1aed12e1');\n",
              "          const dataTable =\n",
              "            await google.colab.kernel.invokeFunction('convertToInteractive',\n",
              "                                                     [key], {});\n",
              "          if (!dataTable) return;\n",
              "\n",
              "          const docLinkHtml = 'Like what you see? Visit the ' +\n",
              "            '<a target=\"_blank\" href=https://colab.research.google.com/notebooks/data_table.ipynb>data table notebook</a>'\n",
              "            + ' to learn more about interactive tables.';\n",
              "          element.innerHTML = '';\n",
              "          dataTable['output_type'] = 'display_data';\n",
              "          await google.colab.output.renderOutput(dataTable, element);\n",
              "          const docLink = document.createElement('div');\n",
              "          docLink.innerHTML = docLinkHtml;\n",
              "          element.appendChild(docLink);\n",
              "        }\n",
              "      </script>\n",
              "    </div>\n",
              "  </div>\n",
              "  "
            ]
          },
          "metadata": {},
          "execution_count": 123
        }
      ]
    },
    {
      "cell_type": "code",
      "source": [
        "#seperate dependent (output) and independent (input) variables\n",
        "inp = df_gender_updated.drop('gender', axis=1)\n",
        "out = pd.DataFrame(df_gender_updated['gender'])\n",
        "out"
      ],
      "metadata": {
        "colab": {
          "base_uri": "https://localhost:8080/",
          "height": 424
        },
        "id": "9Ry1BpNAhfY-",
        "outputId": "45a16a0f-ddef-4a13-e685-bd252ce8def4"
      },
      "execution_count": 124,
      "outputs": [
        {
          "output_type": "execute_result",
          "data": {
            "text/plain": [
              "    gender\n",
              "0     male\n",
              "1     male\n",
              "2   female\n",
              "3   female\n",
              "4     male\n",
              "..     ...\n",
              "80    male\n",
              "81  female\n",
              "82    male\n",
              "83    male\n",
              "84  female\n",
              "\n",
              "[85 rows x 1 columns]"
            ],
            "text/html": [
              "\n",
              "  <div id=\"df-2094c1cd-02c3-4076-b973-f1020b1c0a11\">\n",
              "    <div class=\"colab-df-container\">\n",
              "      <div>\n",
              "<style scoped>\n",
              "    .dataframe tbody tr th:only-of-type {\n",
              "        vertical-align: middle;\n",
              "    }\n",
              "\n",
              "    .dataframe tbody tr th {\n",
              "        vertical-align: top;\n",
              "    }\n",
              "\n",
              "    .dataframe thead th {\n",
              "        text-align: right;\n",
              "    }\n",
              "</style>\n",
              "<table border=\"1\" class=\"dataframe\">\n",
              "  <thead>\n",
              "    <tr style=\"text-align: right;\">\n",
              "      <th></th>\n",
              "      <th>gender</th>\n",
              "    </tr>\n",
              "  </thead>\n",
              "  <tbody>\n",
              "    <tr>\n",
              "      <th>0</th>\n",
              "      <td>male</td>\n",
              "    </tr>\n",
              "    <tr>\n",
              "      <th>1</th>\n",
              "      <td>male</td>\n",
              "    </tr>\n",
              "    <tr>\n",
              "      <th>2</th>\n",
              "      <td>female</td>\n",
              "    </tr>\n",
              "    <tr>\n",
              "      <th>3</th>\n",
              "      <td>female</td>\n",
              "    </tr>\n",
              "    <tr>\n",
              "      <th>4</th>\n",
              "      <td>male</td>\n",
              "    </tr>\n",
              "    <tr>\n",
              "      <th>...</th>\n",
              "      <td>...</td>\n",
              "    </tr>\n",
              "    <tr>\n",
              "      <th>80</th>\n",
              "      <td>male</td>\n",
              "    </tr>\n",
              "    <tr>\n",
              "      <th>81</th>\n",
              "      <td>female</td>\n",
              "    </tr>\n",
              "    <tr>\n",
              "      <th>82</th>\n",
              "      <td>male</td>\n",
              "    </tr>\n",
              "    <tr>\n",
              "      <th>83</th>\n",
              "      <td>male</td>\n",
              "    </tr>\n",
              "    <tr>\n",
              "      <th>84</th>\n",
              "      <td>female</td>\n",
              "    </tr>\n",
              "  </tbody>\n",
              "</table>\n",
              "<p>85 rows × 1 columns</p>\n",
              "</div>\n",
              "      <button class=\"colab-df-convert\" onclick=\"convertToInteractive('df-2094c1cd-02c3-4076-b973-f1020b1c0a11')\"\n",
              "              title=\"Convert this dataframe to an interactive table.\"\n",
              "              style=\"display:none;\">\n",
              "        \n",
              "  <svg xmlns=\"http://www.w3.org/2000/svg\" height=\"24px\"viewBox=\"0 0 24 24\"\n",
              "       width=\"24px\">\n",
              "    <path d=\"M0 0h24v24H0V0z\" fill=\"none\"/>\n",
              "    <path d=\"M18.56 5.44l.94 2.06.94-2.06 2.06-.94-2.06-.94-.94-2.06-.94 2.06-2.06.94zm-11 1L8.5 8.5l.94-2.06 2.06-.94-2.06-.94L8.5 2.5l-.94 2.06-2.06.94zm10 10l.94 2.06.94-2.06 2.06-.94-2.06-.94-.94-2.06-.94 2.06-2.06.94z\"/><path d=\"M17.41 7.96l-1.37-1.37c-.4-.4-.92-.59-1.43-.59-.52 0-1.04.2-1.43.59L10.3 9.45l-7.72 7.72c-.78.78-.78 2.05 0 2.83L4 21.41c.39.39.9.59 1.41.59.51 0 1.02-.2 1.41-.59l7.78-7.78 2.81-2.81c.8-.78.8-2.07 0-2.86zM5.41 20L4 18.59l7.72-7.72 1.47 1.35L5.41 20z\"/>\n",
              "  </svg>\n",
              "      </button>\n",
              "      \n",
              "  <style>\n",
              "    .colab-df-container {\n",
              "      display:flex;\n",
              "      flex-wrap:wrap;\n",
              "      gap: 12px;\n",
              "    }\n",
              "\n",
              "    .colab-df-convert {\n",
              "      background-color: #E8F0FE;\n",
              "      border: none;\n",
              "      border-radius: 50%;\n",
              "      cursor: pointer;\n",
              "      display: none;\n",
              "      fill: #1967D2;\n",
              "      height: 32px;\n",
              "      padding: 0 0 0 0;\n",
              "      width: 32px;\n",
              "    }\n",
              "\n",
              "    .colab-df-convert:hover {\n",
              "      background-color: #E2EBFA;\n",
              "      box-shadow: 0px 1px 2px rgba(60, 64, 67, 0.3), 0px 1px 3px 1px rgba(60, 64, 67, 0.15);\n",
              "      fill: #174EA6;\n",
              "    }\n",
              "\n",
              "    [theme=dark] .colab-df-convert {\n",
              "      background-color: #3B4455;\n",
              "      fill: #D2E3FC;\n",
              "    }\n",
              "\n",
              "    [theme=dark] .colab-df-convert:hover {\n",
              "      background-color: #434B5C;\n",
              "      box-shadow: 0px 1px 3px 1px rgba(0, 0, 0, 0.15);\n",
              "      filter: drop-shadow(0px 1px 2px rgba(0, 0, 0, 0.3));\n",
              "      fill: #FFFFFF;\n",
              "    }\n",
              "  </style>\n",
              "\n",
              "      <script>\n",
              "        const buttonEl =\n",
              "          document.querySelector('#df-2094c1cd-02c3-4076-b973-f1020b1c0a11 button.colab-df-convert');\n",
              "        buttonEl.style.display =\n",
              "          google.colab.kernel.accessAllowed ? 'block' : 'none';\n",
              "\n",
              "        async function convertToInteractive(key) {\n",
              "          const element = document.querySelector('#df-2094c1cd-02c3-4076-b973-f1020b1c0a11');\n",
              "          const dataTable =\n",
              "            await google.colab.kernel.invokeFunction('convertToInteractive',\n",
              "                                                     [key], {});\n",
              "          if (!dataTable) return;\n",
              "\n",
              "          const docLinkHtml = 'Like what you see? Visit the ' +\n",
              "            '<a target=\"_blank\" href=https://colab.research.google.com/notebooks/data_table.ipynb>data table notebook</a>'\n",
              "            + ' to learn more about interactive tables.';\n",
              "          element.innerHTML = '';\n",
              "          dataTable['output_type'] = 'display_data';\n",
              "          await google.colab.output.renderOutput(dataTable, element);\n",
              "          const docLink = document.createElement('div');\n",
              "          docLink.innerHTML = docLinkHtml;\n",
              "          element.appendChild(docLink);\n",
              "        }\n",
              "      </script>\n",
              "    </div>\n",
              "  </div>\n",
              "  "
            ]
          },
          "metadata": {},
          "execution_count": 124
        }
      ]
    },
    {
      "cell_type": "code",
      "source": [
        "labels = preprocessing.LabelEncoder()\n",
        "#encoding the categorical attribute of input\n",
        "inp.beard = labels.fit_transform(inp.beard)\n",
        "inp.hair_length = labels.fit_transform(inp.hair_length)\n",
        "inp.scarf = labels.fit_transform(inp.scarf)\n",
        "inp.eye_color = labels.fit_transform(inp.eye_color)\n",
        "#encodign the output\n",
        "out.gender = labels.fit_transform(out.gender)\n",
        "out"
      ],
      "metadata": {
        "colab": {
          "base_uri": "https://localhost:8080/",
          "height": 424
        },
        "id": "_uxRTCEahfV4",
        "outputId": "d662afad-65bd-4256-f913-e53395180431"
      },
      "execution_count": 126,
      "outputs": [
        {
          "output_type": "execute_result",
          "data": {
            "text/plain": [
              "    gender\n",
              "0        1\n",
              "1        1\n",
              "2        0\n",
              "3        0\n",
              "4        1\n",
              "..     ...\n",
              "80       1\n",
              "81       0\n",
              "82       1\n",
              "83       1\n",
              "84       0\n",
              "\n",
              "[85 rows x 1 columns]"
            ],
            "text/html": [
              "\n",
              "  <div id=\"df-78df7b15-30d6-4d42-b6b1-b943076482cc\">\n",
              "    <div class=\"colab-df-container\">\n",
              "      <div>\n",
              "<style scoped>\n",
              "    .dataframe tbody tr th:only-of-type {\n",
              "        vertical-align: middle;\n",
              "    }\n",
              "\n",
              "    .dataframe tbody tr th {\n",
              "        vertical-align: top;\n",
              "    }\n",
              "\n",
              "    .dataframe thead th {\n",
              "        text-align: right;\n",
              "    }\n",
              "</style>\n",
              "<table border=\"1\" class=\"dataframe\">\n",
              "  <thead>\n",
              "    <tr style=\"text-align: right;\">\n",
              "      <th></th>\n",
              "      <th>gender</th>\n",
              "    </tr>\n",
              "  </thead>\n",
              "  <tbody>\n",
              "    <tr>\n",
              "      <th>0</th>\n",
              "      <td>1</td>\n",
              "    </tr>\n",
              "    <tr>\n",
              "      <th>1</th>\n",
              "      <td>1</td>\n",
              "    </tr>\n",
              "    <tr>\n",
              "      <th>2</th>\n",
              "      <td>0</td>\n",
              "    </tr>\n",
              "    <tr>\n",
              "      <th>3</th>\n",
              "      <td>0</td>\n",
              "    </tr>\n",
              "    <tr>\n",
              "      <th>4</th>\n",
              "      <td>1</td>\n",
              "    </tr>\n",
              "    <tr>\n",
              "      <th>...</th>\n",
              "      <td>...</td>\n",
              "    </tr>\n",
              "    <tr>\n",
              "      <th>80</th>\n",
              "      <td>1</td>\n",
              "    </tr>\n",
              "    <tr>\n",
              "      <th>81</th>\n",
              "      <td>0</td>\n",
              "    </tr>\n",
              "    <tr>\n",
              "      <th>82</th>\n",
              "      <td>1</td>\n",
              "    </tr>\n",
              "    <tr>\n",
              "      <th>83</th>\n",
              "      <td>1</td>\n",
              "    </tr>\n",
              "    <tr>\n",
              "      <th>84</th>\n",
              "      <td>0</td>\n",
              "    </tr>\n",
              "  </tbody>\n",
              "</table>\n",
              "<p>85 rows × 1 columns</p>\n",
              "</div>\n",
              "      <button class=\"colab-df-convert\" onclick=\"convertToInteractive('df-78df7b15-30d6-4d42-b6b1-b943076482cc')\"\n",
              "              title=\"Convert this dataframe to an interactive table.\"\n",
              "              style=\"display:none;\">\n",
              "        \n",
              "  <svg xmlns=\"http://www.w3.org/2000/svg\" height=\"24px\"viewBox=\"0 0 24 24\"\n",
              "       width=\"24px\">\n",
              "    <path d=\"M0 0h24v24H0V0z\" fill=\"none\"/>\n",
              "    <path d=\"M18.56 5.44l.94 2.06.94-2.06 2.06-.94-2.06-.94-.94-2.06-.94 2.06-2.06.94zm-11 1L8.5 8.5l.94-2.06 2.06-.94-2.06-.94L8.5 2.5l-.94 2.06-2.06.94zm10 10l.94 2.06.94-2.06 2.06-.94-2.06-.94-.94-2.06-.94 2.06-2.06.94z\"/><path d=\"M17.41 7.96l-1.37-1.37c-.4-.4-.92-.59-1.43-.59-.52 0-1.04.2-1.43.59L10.3 9.45l-7.72 7.72c-.78.78-.78 2.05 0 2.83L4 21.41c.39.39.9.59 1.41.59.51 0 1.02-.2 1.41-.59l7.78-7.78 2.81-2.81c.8-.78.8-2.07 0-2.86zM5.41 20L4 18.59l7.72-7.72 1.47 1.35L5.41 20z\"/>\n",
              "  </svg>\n",
              "      </button>\n",
              "      \n",
              "  <style>\n",
              "    .colab-df-container {\n",
              "      display:flex;\n",
              "      flex-wrap:wrap;\n",
              "      gap: 12px;\n",
              "    }\n",
              "\n",
              "    .colab-df-convert {\n",
              "      background-color: #E8F0FE;\n",
              "      border: none;\n",
              "      border-radius: 50%;\n",
              "      cursor: pointer;\n",
              "      display: none;\n",
              "      fill: #1967D2;\n",
              "      height: 32px;\n",
              "      padding: 0 0 0 0;\n",
              "      width: 32px;\n",
              "    }\n",
              "\n",
              "    .colab-df-convert:hover {\n",
              "      background-color: #E2EBFA;\n",
              "      box-shadow: 0px 1px 2px rgba(60, 64, 67, 0.3), 0px 1px 3px 1px rgba(60, 64, 67, 0.15);\n",
              "      fill: #174EA6;\n",
              "    }\n",
              "\n",
              "    [theme=dark] .colab-df-convert {\n",
              "      background-color: #3B4455;\n",
              "      fill: #D2E3FC;\n",
              "    }\n",
              "\n",
              "    [theme=dark] .colab-df-convert:hover {\n",
              "      background-color: #434B5C;\n",
              "      box-shadow: 0px 1px 3px 1px rgba(0, 0, 0, 0.15);\n",
              "      filter: drop-shadow(0px 1px 2px rgba(0, 0, 0, 0.3));\n",
              "      fill: #FFFFFF;\n",
              "    }\n",
              "  </style>\n",
              "\n",
              "      <script>\n",
              "        const buttonEl =\n",
              "          document.querySelector('#df-78df7b15-30d6-4d42-b6b1-b943076482cc button.colab-df-convert');\n",
              "        buttonEl.style.display =\n",
              "          google.colab.kernel.accessAllowed ? 'block' : 'none';\n",
              "\n",
              "        async function convertToInteractive(key) {\n",
              "          const element = document.querySelector('#df-78df7b15-30d6-4d42-b6b1-b943076482cc');\n",
              "          const dataTable =\n",
              "            await google.colab.kernel.invokeFunction('convertToInteractive',\n",
              "                                                     [key], {});\n",
              "          if (!dataTable) return;\n",
              "\n",
              "          const docLinkHtml = 'Like what you see? Visit the ' +\n",
              "            '<a target=\"_blank\" href=https://colab.research.google.com/notebooks/data_table.ipynb>data table notebook</a>'\n",
              "            + ' to learn more about interactive tables.';\n",
              "          element.innerHTML = '';\n",
              "          dataTable['output_type'] = 'display_data';\n",
              "          await google.colab.output.renderOutput(dataTable, element);\n",
              "          const docLink = document.createElement('div');\n",
              "          docLink.innerHTML = docLinkHtml;\n",
              "          element.appendChild(docLink);\n",
              "        }\n",
              "      </script>\n",
              "    </div>\n",
              "  </div>\n",
              "  "
            ]
          },
          "metadata": {},
          "execution_count": 126
        }
      ]
    },
    {
      "cell_type": "code",
      "source": [
        "#accessing a multiple records (rows) from the DataFrame using numerical index\n",
        "train_up = inp.iloc[:80]\n",
        "train_output_up = out.iloc[:80]"
      ],
      "metadata": {
        "id": "5S_ZhyvipV3x"
      },
      "execution_count": 127,
      "outputs": []
    },
    {
      "cell_type": "code",
      "source": [
        "test_up = inp.iloc[80:]\n",
        "test_output_up = out.iloc[80:]"
      ],
      "metadata": {
        "id": "tQNicOHnpVwd"
      },
      "execution_count": 128,
      "outputs": []
    },
    {
      "cell_type": "code",
      "source": [
        "model_GNB = GaussianNB()"
      ],
      "metadata": {
        "id": "Z6eWR1TLpVs7"
      },
      "execution_count": 129,
      "outputs": []
    },
    {
      "cell_type": "code",
      "source": [
        "model_GNB.fit(train_up,train_output_up)"
      ],
      "metadata": {
        "id": "HrjrcnQrqHXL"
      },
      "execution_count": null,
      "outputs": []
    },
    {
      "cell_type": "code",
      "source": [
        "#make prediction using the gausian trained model\n",
        "predictions_GNB = model_GNB.predict(test_up)"
      ],
      "metadata": {
        "id": "013mQ_P5qHTt"
      },
      "execution_count": 131,
      "outputs": []
    },
    {
      "cell_type": "code",
      "source": [
        "model_GNB_accuracy = accuracy_score(test_output_up, predictions_GNB)*100\n",
        "print(model_GNB_accuracy)"
      ],
      "metadata": {
        "colab": {
          "base_uri": "https://localhost:8080/"
        },
        "id": "iYQxFuZOqHRH",
        "outputId": "0176edaa-bd4d-4f75-ae4b-039dec017b49"
      },
      "execution_count": 132,
      "outputs": [
        {
          "output_type": "stream",
          "name": "stdout",
          "text": [
            "100.0\n"
          ]
        }
      ]
    },
    {
      "cell_type": "code",
      "source": [
        "model_GNB_recall = recall_score(test_output_up,predictions_GNB)\n",
        "model_GNB_recall"
      ],
      "metadata": {
        "colab": {
          "base_uri": "https://localhost:8080/"
        },
        "id": "lPw8F9MfqHOd",
        "outputId": "9b6f47fb-a7ca-4471-9dbf-92f844e8a88f"
      },
      "execution_count": 133,
      "outputs": [
        {
          "output_type": "execute_result",
          "data": {
            "text/plain": [
              "1.0"
            ]
          },
          "metadata": {},
          "execution_count": 133
        }
      ]
    },
    {
      "cell_type": "code",
      "source": [
        "model_GNB_precision = precision_score(test_output_up,predictions_GNB)\n",
        "model_GNB_precision"
      ],
      "metadata": {
        "colab": {
          "base_uri": "https://localhost:8080/"
        },
        "id": "kc7F6dfPqHL9",
        "outputId": "14588909-adbd-4321-d981-35f14ced041b"
      },
      "execution_count": 134,
      "outputs": [
        {
          "output_type": "execute_result",
          "data": {
            "text/plain": [
              "1.0"
            ]
          },
          "metadata": {},
          "execution_count": 134
        }
      ]
    }
  ]
}